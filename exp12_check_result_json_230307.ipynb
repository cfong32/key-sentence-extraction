{
  "nbformat": 4,
  "nbformat_minor": 0,
  "metadata": {
    "colab": {
      "provenance": [],
      "authorship_tag": "ABX9TyOLVBUrkDSgBiKEnMG3sG1y",
      "include_colab_link": true
    },
    "kernelspec": {
      "name": "python3",
      "display_name": "Python 3"
    },
    "language_info": {
      "name": "python"
    }
  },
  "cells": [
    {
      "cell_type": "markdown",
      "metadata": {
        "id": "view-in-github",
        "colab_type": "text"
      },
      "source": [
        "<a href=\"https://colab.research.google.com/github/cfong32/key-sentence-extraction/blob/main/exp12_check_result_json_230307.ipynb\" target=\"_parent\"><img src=\"https://colab.research.google.com/assets/colab-badge.svg\" alt=\"Open In Colab\"/></a>"
      ]
    },
    {
      "cell_type": "code",
      "execution_count": 1,
      "metadata": {
        "colab": {
          "base_uri": "https://localhost:8080/"
        },
        "id": "JSLJEeO3FDl7",
        "outputId": "18ae356c-834e-4601-8ea2-0ef3ca4424ab"
      },
      "outputs": [
        {
          "output_type": "stream",
          "name": "stdout",
          "text": [
            "--2023-03-07 23:08:29--  https://uoguelphca-my.sharepoint.com/:u:/g/personal/mhavaled_uoguelph_ca/EaXg7T8PSatNn7imm4pv22YBGJA1V1khPtg2r9zO-SUmeQ?download=1\n",
            "Resolving uoguelphca-my.sharepoint.com (uoguelphca-my.sharepoint.com)... 13.107.136.8, 13.107.138.8, 2620:1ec:8f8::8, ...\n",
            "Connecting to uoguelphca-my.sharepoint.com (uoguelphca-my.sharepoint.com)|13.107.136.8|:443... connected.\n",
            "HTTP request sent, awaiting response... 302 Found\n",
            "Location: https://uoguelphca-my.sharepoint.com/personal/mhavaled_uoguelph_ca/_layouts/15/download.aspx?UniqueId=3fede0a5490f4dab9fb8a69b8a6fdb66 [following]\n",
            "--2023-03-07 23:08:30--  https://uoguelphca-my.sharepoint.com/personal/mhavaled_uoguelph_ca/_layouts/15/download.aspx?UniqueId=3fede0a5490f4dab9fb8a69b8a6fdb66\n",
            "Reusing existing connection to uoguelphca-my.sharepoint.com:443.\n",
            "HTTP request sent, awaiting response... 200 OK\n",
            "Length: 89602 (88K) [application/json]\n",
            "Saving to: ‘result.json’\n",
            "\n",
            "result.json         100%[===================>]  87.50K  --.-KB/s    in 0.02s   \n",
            "\n",
            "2023-03-07 23:08:30 (3.93 MB/s) - ‘result.json’ saved [89602/89602]\n",
            "\n"
          ]
        }
      ],
      "source": [
        "!wget -O result.json https://uoguelphca-my.sharepoint.com/:u:/g/personal/mhavaled_uoguelph_ca/EaXg7T8PSatNn7imm4pv22YBGJA1V1khPtg2r9zO-SUmeQ?download=1"
      ]
    },
    {
      "cell_type": "code",
      "source": [
        "import json\n",
        "import pandas as pd\n",
        "from pprint import pprint"
      ],
      "metadata": {
        "id": "K3ic4GNcFIoR"
      },
      "execution_count": 2,
      "outputs": []
    },
    {
      "cell_type": "code",
      "source": [
        "# read data into dataframe\n",
        "\n",
        "data = json.load(open('result.json'))\n",
        "df = pd.DataFrame(data)\n",
        "df.key_sentences = df.key_sentences.map(lambda x: x.strip())\n",
        "df"
      ],
      "metadata": {
        "colab": {
          "base_uri": "https://localhost:8080/",
          "height": 424
        },
        "id": "RixcyWWEFLuP",
        "outputId": "14471492-abad-4939-f517-600d15537931"
      },
      "execution_count": 3,
      "outputs": [
        {
          "output_type": "execute_result",
          "data": {
            "text/plain": [
              "                                            paragraphs  \\\n",
              "0    Climate change is one of the most pressing iss...   \n",
              "1    Education is the key to unlocking a better fut...   \n",
              "2    The internet has revolutionized the way we com...   \n",
              "3    Mental health is just as important as physical...   \n",
              "4    Diversity and inclusion are essential for crea...   \n",
              "..                                                 ...   \n",
              "198  Traveling can be an enriching and transformati...   \n",
              "199  Nutrition is an important aspect of overall he...   \n",
              "200  Effective communication is essential in both p...   \n",
              "201  Mindfulness is a technique that can help us cu...   \n",
              "202  The internet has revolutionized the way we com...   \n",
              "\n",
              "                                         key_sentences  \n",
              "0    We need to act urgently to reduce our greenhou...  \n",
              "1    Education is the key to unlocking a better fut...  \n",
              "2    As we continue to rely on technology more and ...  \n",
              "3    It is crucial that we prioritize mental health...  \n",
              "4    Diversity and inclusion are essential for crea...  \n",
              "..                                                 ...  \n",
              "198  Travel can broaden our horizons and provide ne...  \n",
              "199  A well-balanced diet can provide us with the n...  \n",
              "200  Good communication skills can help build trust...  \n",
              "201  Mindfulness can also help us develop a greater...  \n",
              "202  However, it is important to be mindful of the ...  \n",
              "\n",
              "[203 rows x 2 columns]"
            ],
            "text/html": [
              "\n",
              "  <div id=\"df-c343b0af-954f-4ae6-960b-0a2c474648bd\">\n",
              "    <div class=\"colab-df-container\">\n",
              "      <div>\n",
              "<style scoped>\n",
              "    .dataframe tbody tr th:only-of-type {\n",
              "        vertical-align: middle;\n",
              "    }\n",
              "\n",
              "    .dataframe tbody tr th {\n",
              "        vertical-align: top;\n",
              "    }\n",
              "\n",
              "    .dataframe thead th {\n",
              "        text-align: right;\n",
              "    }\n",
              "</style>\n",
              "<table border=\"1\" class=\"dataframe\">\n",
              "  <thead>\n",
              "    <tr style=\"text-align: right;\">\n",
              "      <th></th>\n",
              "      <th>paragraphs</th>\n",
              "      <th>key_sentences</th>\n",
              "    </tr>\n",
              "  </thead>\n",
              "  <tbody>\n",
              "    <tr>\n",
              "      <th>0</th>\n",
              "      <td>Climate change is one of the most pressing iss...</td>\n",
              "      <td>We need to act urgently to reduce our greenhou...</td>\n",
              "    </tr>\n",
              "    <tr>\n",
              "      <th>1</th>\n",
              "      <td>Education is the key to unlocking a better fut...</td>\n",
              "      <td>Education is the key to unlocking a better fut...</td>\n",
              "    </tr>\n",
              "    <tr>\n",
              "      <th>2</th>\n",
              "      <td>The internet has revolutionized the way we com...</td>\n",
              "      <td>As we continue to rely on technology more and ...</td>\n",
              "    </tr>\n",
              "    <tr>\n",
              "      <th>3</th>\n",
              "      <td>Mental health is just as important as physical...</td>\n",
              "      <td>It is crucial that we prioritize mental health...</td>\n",
              "    </tr>\n",
              "    <tr>\n",
              "      <th>4</th>\n",
              "      <td>Diversity and inclusion are essential for crea...</td>\n",
              "      <td>Diversity and inclusion are essential for crea...</td>\n",
              "    </tr>\n",
              "    <tr>\n",
              "      <th>...</th>\n",
              "      <td>...</td>\n",
              "      <td>...</td>\n",
              "    </tr>\n",
              "    <tr>\n",
              "      <th>198</th>\n",
              "      <td>Traveling can be an enriching and transformati...</td>\n",
              "      <td>Travel can broaden our horizons and provide ne...</td>\n",
              "    </tr>\n",
              "    <tr>\n",
              "      <th>199</th>\n",
              "      <td>Nutrition is an important aspect of overall he...</td>\n",
              "      <td>A well-balanced diet can provide us with the n...</td>\n",
              "    </tr>\n",
              "    <tr>\n",
              "      <th>200</th>\n",
              "      <td>Effective communication is essential in both p...</td>\n",
              "      <td>Good communication skills can help build trust...</td>\n",
              "    </tr>\n",
              "    <tr>\n",
              "      <th>201</th>\n",
              "      <td>Mindfulness is a technique that can help us cu...</td>\n",
              "      <td>Mindfulness can also help us develop a greater...</td>\n",
              "    </tr>\n",
              "    <tr>\n",
              "      <th>202</th>\n",
              "      <td>The internet has revolutionized the way we com...</td>\n",
              "      <td>However, it is important to be mindful of the ...</td>\n",
              "    </tr>\n",
              "  </tbody>\n",
              "</table>\n",
              "<p>203 rows × 2 columns</p>\n",
              "</div>\n",
              "      <button class=\"colab-df-convert\" onclick=\"convertToInteractive('df-c343b0af-954f-4ae6-960b-0a2c474648bd')\"\n",
              "              title=\"Convert this dataframe to an interactive table.\"\n",
              "              style=\"display:none;\">\n",
              "        \n",
              "  <svg xmlns=\"http://www.w3.org/2000/svg\" height=\"24px\"viewBox=\"0 0 24 24\"\n",
              "       width=\"24px\">\n",
              "    <path d=\"M0 0h24v24H0V0z\" fill=\"none\"/>\n",
              "    <path d=\"M18.56 5.44l.94 2.06.94-2.06 2.06-.94-2.06-.94-.94-2.06-.94 2.06-2.06.94zm-11 1L8.5 8.5l.94-2.06 2.06-.94-2.06-.94L8.5 2.5l-.94 2.06-2.06.94zm10 10l.94 2.06.94-2.06 2.06-.94-2.06-.94-.94-2.06-.94 2.06-2.06.94z\"/><path d=\"M17.41 7.96l-1.37-1.37c-.4-.4-.92-.59-1.43-.59-.52 0-1.04.2-1.43.59L10.3 9.45l-7.72 7.72c-.78.78-.78 2.05 0 2.83L4 21.41c.39.39.9.59 1.41.59.51 0 1.02-.2 1.41-.59l7.78-7.78 2.81-2.81c.8-.78.8-2.07 0-2.86zM5.41 20L4 18.59l7.72-7.72 1.47 1.35L5.41 20z\"/>\n",
              "  </svg>\n",
              "      </button>\n",
              "      \n",
              "  <style>\n",
              "    .colab-df-container {\n",
              "      display:flex;\n",
              "      flex-wrap:wrap;\n",
              "      gap: 12px;\n",
              "    }\n",
              "\n",
              "    .colab-df-convert {\n",
              "      background-color: #E8F0FE;\n",
              "      border: none;\n",
              "      border-radius: 50%;\n",
              "      cursor: pointer;\n",
              "      display: none;\n",
              "      fill: #1967D2;\n",
              "      height: 32px;\n",
              "      padding: 0 0 0 0;\n",
              "      width: 32px;\n",
              "    }\n",
              "\n",
              "    .colab-df-convert:hover {\n",
              "      background-color: #E2EBFA;\n",
              "      box-shadow: 0px 1px 2px rgba(60, 64, 67, 0.3), 0px 1px 3px 1px rgba(60, 64, 67, 0.15);\n",
              "      fill: #174EA6;\n",
              "    }\n",
              "\n",
              "    [theme=dark] .colab-df-convert {\n",
              "      background-color: #3B4455;\n",
              "      fill: #D2E3FC;\n",
              "    }\n",
              "\n",
              "    [theme=dark] .colab-df-convert:hover {\n",
              "      background-color: #434B5C;\n",
              "      box-shadow: 0px 1px 3px 1px rgba(0, 0, 0, 0.15);\n",
              "      filter: drop-shadow(0px 1px 2px rgba(0, 0, 0, 0.3));\n",
              "      fill: #FFFFFF;\n",
              "    }\n",
              "  </style>\n",
              "\n",
              "      <script>\n",
              "        const buttonEl =\n",
              "          document.querySelector('#df-c343b0af-954f-4ae6-960b-0a2c474648bd button.colab-df-convert');\n",
              "        buttonEl.style.display =\n",
              "          google.colab.kernel.accessAllowed ? 'block' : 'none';\n",
              "\n",
              "        async function convertToInteractive(key) {\n",
              "          const element = document.querySelector('#df-c343b0af-954f-4ae6-960b-0a2c474648bd');\n",
              "          const dataTable =\n",
              "            await google.colab.kernel.invokeFunction('convertToInteractive',\n",
              "                                                     [key], {});\n",
              "          if (!dataTable) return;\n",
              "\n",
              "          const docLinkHtml = 'Like what you see? Visit the ' +\n",
              "            '<a target=\"_blank\" href=https://colab.research.google.com/notebooks/data_table.ipynb>data table notebook</a>'\n",
              "            + ' to learn more about interactive tables.';\n",
              "          element.innerHTML = '';\n",
              "          dataTable['output_type'] = 'display_data';\n",
              "          await google.colab.output.renderOutput(dataTable, element);\n",
              "          const docLink = document.createElement('div');\n",
              "          docLink.innerHTML = docLinkHtml;\n",
              "          element.appendChild(docLink);\n",
              "        }\n",
              "      </script>\n",
              "    </div>\n",
              "  </div>\n",
              "  "
            ]
          },
          "metadata": {},
          "execution_count": 3
        }
      ]
    },
    {
      "cell_type": "code",
      "source": [
        "# check which \"paragraphs\" contains \"key_sentences\" (in exact wording)\n",
        "\n",
        "is_extractive = df.apply(lambda x: x.key_sentences in x.paragraphs, axis=1)\n",
        "is_extractive.value_counts()"
      ],
      "metadata": {
        "colab": {
          "base_uri": "https://localhost:8080/"
        },
        "id": "JEngNdoeFUtW",
        "outputId": "14fc5c19-688a-4f10-e9cb-3790712286a3"
      },
      "execution_count": 10,
      "outputs": [
        {
          "output_type": "execute_result",
          "data": {
            "text/plain": [
              "True     195\n",
              "False      8\n",
              "dtype: int64"
            ]
          },
          "metadata": {},
          "execution_count": 10
        }
      ]
    },
    {
      "cell_type": "code",
      "source": [
        "is_extractive"
      ],
      "metadata": {
        "id": "v8dEwktDVup6",
        "outputId": "2b088370-cf8c-45e8-a2cd-da9576520f54",
        "colab": {
          "base_uri": "https://localhost:8080/"
        }
      },
      "execution_count": 11,
      "outputs": [
        {
          "output_type": "execute_result",
          "data": {
            "text/plain": [
              "0       True\n",
              "1       True\n",
              "2       True\n",
              "3       True\n",
              "4       True\n",
              "       ...  \n",
              "198    False\n",
              "199     True\n",
              "200     True\n",
              "201     True\n",
              "202     True\n",
              "Length: 203, dtype: bool"
            ]
          },
          "metadata": {},
          "execution_count": 11
        }
      ]
    },
    {
      "cell_type": "code",
      "source": [
        "# print some examples which do NOT exactly match\n",
        "\n",
        "SEED = 0\n",
        "N_SAMPLE = 5\n",
        "\n",
        "for i, x in df[~is_extractive].sample(n=N_SAMPLE, random_state=SEED).iterrows():\n",
        "    print(f'index: {i}')\n",
        "    pprint(x.paragraphs)\n",
        "    pprint(x.key_sentences)\n",
        "    print()"
      ],
      "metadata": {
        "colab": {
          "base_uri": "https://localhost:8080/"
        },
        "id": "Yf-moYAzG1no",
        "outputId": "3eafca33-670f-430e-f46c-f1e34ad79a62"
      },
      "execution_count": 12,
      "outputs": [
        {
          "output_type": "stream",
          "name": "stdout",
          "text": [
            "index: 196\n",
            "(\"Exercise is an important part of a healthy lifestyle. Whether it's a brisk \"\n",
            " 'walk, a workout at the gym, or a team sport, regular physical activity can '\n",
            " 'improve our physical and mental wellbeing. Exercise can also help reduce the '\n",
            " 'risk of chronic diseases such as diabetes, heart disease, and certain '\n",
            " 'cancers.')\n",
            "'Regular physical activity can improve our physical and mental wellbeing.'\n",
            "\n",
            "index: 46\n",
            "('In addition to these actions, there is a growing movement to divest from '\n",
            " 'fossil fuels and invest in sustainable alternatives. This divestment '\n",
            " 'movement aims to reduce the influence of the fossil fuel industry and '\n",
            " 'accelerate the transition to clean energy.')\n",
            "('There is a growing movement to divest from fossil fuels and invest in '\n",
            " 'sustainable alternatives.')\n",
            "\n",
            "index: 42\n",
            "('One of the main causes of global warming is the burning of fossil fuels such '\n",
            " 'as coal, oil, and gas for energy. These activities release large amounts of '\n",
            " 'greenhouse gases into the atmosphere, which trap heat and contribute to the '\n",
            " 'warming of the planet. As such, reducing our reliance on fossil fuels and '\n",
            " 'transitioning to clean, renewable sources of energy is essential in the '\n",
            " 'fight against global warming.')\n",
            "('Reducing our reliance on fossil fuels and transitioning to clean, renewable '\n",
            " 'sources of energy is essential in the fight against global warming.')\n",
            "\n",
            "index: 198\n",
            "(\"Traveling can be an enriching and transformative experience. Whether it's \"\n",
            " 'exploring a new city, immersing oneself in a different culture, or simply '\n",
            " 'taking a break from the routine of daily life, travel can broaden our '\n",
            " 'horizons and provide new perspectives. Travel can also help develop our '\n",
            " 'sense of empathy and compassion.')\n",
            "'Travel can broaden our horizons and provide new perspectives.'\n",
            "\n",
            "index: 47\n",
            "('In conclusion, global warming is a significant threat to our planet and our '\n",
            " 'way of life. However, by taking action to reduce our carbon footprint, '\n",
            " 'transition to clean energy, and support conservation efforts, we can work '\n",
            " 'together to mitigate the worst impacts of this crisis and build a more '\n",
            " 'sustainable future.')\n",
            "('By taking action to reduce our carbon footprint, transition to clean energy, '\n",
            " 'and support conservation efforts, we can work together to mitigate the worst '\n",
            " 'impacts of this crisis and build a more sustainable future.')\n",
            "\n"
          ]
        }
      ]
    },
    {
      "cell_type": "code",
      "source": [],
      "metadata": {
        "id": "ojMayhrcFeOM"
      },
      "execution_count": null,
      "outputs": []
    }
  ]
}