{
  "nbformat": 4,
  "nbformat_minor": 0,
  "metadata": {
    "colab": {
      "provenance": [],
      "authorship_tag": "ABX9TyMNdcfomPDIM2kiO55tKR3u",
      "include_colab_link": true
    },
    "kernelspec": {
      "name": "python3",
      "display_name": "Python 3"
    },
    "language_info": {
      "name": "python"
    }
  },
  "cells": [
    {
      "cell_type": "markdown",
      "metadata": {
        "id": "view-in-github",
        "colab_type": "text"
      },
      "source": [
        "<a href=\"https://colab.research.google.com/github/cfong32/key-sentence-extraction/blob/main/exp3_BERT.ipynb\" target=\"_parent\"><img src=\"https://colab.research.google.com/assets/colab-badge.svg\" alt=\"Open In Colab\"/></a>"
      ]
    },
    {
      "cell_type": "code",
      "execution_count": 11,
      "metadata": {
        "colab": {
          "base_uri": "https://localhost:8080/"
        },
        "id": "XEMsA0_QCcxc",
        "outputId": "7b99eb96-c33d-48c9-8093-fdef38472a23"
      },
      "outputs": [
        {
          "output_type": "stream",
          "name": "stdout",
          "text": [
            "Looking in indexes: https://pypi.org/simple, https://us-python.pkg.dev/colab-wheels/public/simple/\n",
            "Requirement already satisfied: kaggle in /usr/local/lib/python3.8/dist-packages (1.5.12)\n",
            "Requirement already satisfied: tqdm in /usr/local/lib/python3.8/dist-packages (from kaggle) (4.64.1)\n",
            "Requirement already satisfied: certifi in /usr/local/lib/python3.8/dist-packages (from kaggle) (2022.12.7)\n",
            "Requirement already satisfied: python-slugify in /usr/local/lib/python3.8/dist-packages (from kaggle) (8.0.0)\n",
            "Requirement already satisfied: urllib3 in /usr/local/lib/python3.8/dist-packages (from kaggle) (1.24.3)\n",
            "Requirement already satisfied: six>=1.10 in /usr/local/lib/python3.8/dist-packages (from kaggle) (1.15.0)\n",
            "Requirement already satisfied: requests in /usr/local/lib/python3.8/dist-packages (from kaggle) (2.25.1)\n",
            "Requirement already satisfied: python-dateutil in /usr/local/lib/python3.8/dist-packages (from kaggle) (2.8.2)\n",
            "Requirement already satisfied: text-unidecode>=1.3 in /usr/local/lib/python3.8/dist-packages (from python-slugify->kaggle) (1.3)\n",
            "Requirement already satisfied: chardet<5,>=3.0.2 in /usr/local/lib/python3.8/dist-packages (from requests->kaggle) (4.0.0)\n",
            "Requirement already satisfied: idna<3,>=2.5 in /usr/local/lib/python3.8/dist-packages (from requests->kaggle) (2.10)\n",
            "mkdir: cannot create directory ‘/root/.kaggle’: File exists\n"
          ]
        }
      ],
      "source": [
        "# First we will have to add a \"kaggle.json\" API key to the colab\n",
        "! pip install kaggle\n",
        "! mkdir ~/.kaggle\n",
        "! cp kaggle.json ~/.kaggle/\n",
        "! chmod 600 ~/.kaggle/kaggle.json"
      ]
    },
    {
      "cell_type": "code",
      "source": [
        "! kaggle datasets download -d gowrishankarp/newspaper-text-summarization-cnn-dailymail\n",
        "! unzip newspaper-text-summarization-cnn-dailymail.zip"
      ],
      "metadata": {
        "colab": {
          "base_uri": "https://localhost:8080/"
        },
        "id": "zXg87dBiDuVI",
        "outputId": "bd0b2961-2ed7-4618-c946-704174d1e6f9"
      },
      "execution_count": 21,
      "outputs": [
        {
          "output_type": "stream",
          "name": "stdout",
          "text": [
            "newspaper-text-summarization-cnn-dailymail.zip: Skipping, found more recently modified local copy (use --force to force download)\n",
            "Archive:  newspaper-text-summarization-cnn-dailymail.zip\n",
            "  inflating: cnn_dailymail/test.csv  \n",
            "  inflating: cnn_dailymail/train.csv  \n",
            "  inflating: cnn_dailymail/validation.csv  \n"
          ]
        }
      ]
    },
    {
      "cell_type": "code",
      "source": [
        "!pip install -q openai sentence-transformers"
      ],
      "metadata": {
        "colab": {
          "base_uri": "https://localhost:8080/"
        },
        "id": "zeGmiGZuNUMC",
        "outputId": "1fad6fda-ba7a-4516-8f83-72e8565c5efc"
      },
      "execution_count": 31,
      "outputs": [
        {
          "output_type": "stream",
          "name": "stdout",
          "text": [
            "\u001b[?25l     \u001b[90m━━━━━━━━━━━━━━━━━━━━━━━━━━━━━━━━━━━━━━━━\u001b[0m \u001b[32m0.0/55.5 KB\u001b[0m \u001b[31m?\u001b[0m eta \u001b[36m-:--:--\u001b[0m\r\u001b[2K     \u001b[90m━━━━━━━━━━━━━━━━━━━━━━━━━━━━━━━━━━━━━━━━\u001b[0m \u001b[32m55.5/55.5 KB\u001b[0m \u001b[31m2.1 MB/s\u001b[0m eta \u001b[36m0:00:00\u001b[0m\n",
            "\u001b[?25h  Installing build dependencies ... \u001b[?25l\u001b[?25hdone\n",
            "  Getting requirements to build wheel ... \u001b[?25l\u001b[?25hdone\n",
            "  Installing backend dependencies ... \u001b[?25l\u001b[?25hdone\n",
            "  Preparing metadata (pyproject.toml) ... \u001b[?25l\u001b[?25hdone\n",
            "\u001b[2K     \u001b[90m━━━━━━━━━━━━━━━━━━━━━━━━━━━━━━━━━━━━━━━━\u001b[0m \u001b[32m86.0/86.0 KB\u001b[0m \u001b[31m4.8 MB/s\u001b[0m eta \u001b[36m0:00:00\u001b[0m\n",
            "\u001b[?25h  Preparing metadata (setup.py) ... \u001b[?25l\u001b[?25hdone\n",
            "\u001b[2K     \u001b[90m━━━━━━━━━━━━━━━━━━━━━━━━━━━━━━━━━━━━━━━━\u001b[0m \u001b[32m6.3/6.3 MB\u001b[0m \u001b[31m53.2 MB/s\u001b[0m eta \u001b[36m0:00:00\u001b[0m\n",
            "\u001b[2K     \u001b[90m━━━━━━━━━━━━━━━━━━━━━━━━━━━━━━━━━━━━━━━━\u001b[0m \u001b[32m1.3/1.3 MB\u001b[0m \u001b[31m49.8 MB/s\u001b[0m eta \u001b[36m0:00:00\u001b[0m\n",
            "\u001b[2K     \u001b[90m━━━━━━━━━━━━━━━━━━━━━━━━━━━━━━━━━━━━━━\u001b[0m \u001b[32m190.3/190.3 KB\u001b[0m \u001b[31m16.6 MB/s\u001b[0m eta \u001b[36m0:00:00\u001b[0m\n",
            "\u001b[2K     \u001b[90m━━━━━━━━━━━━━━━━━━━━━━━━━━━━━━━━━━━━━━━━\u001b[0m \u001b[32m7.6/7.6 MB\u001b[0m \u001b[31m81.3 MB/s\u001b[0m eta \u001b[36m0:00:00\u001b[0m\n",
            "\u001b[?25h  Building wheel for openai (pyproject.toml) ... \u001b[?25l\u001b[?25hdone\n",
            "  Building wheel for sentence-transformers (setup.py) ... \u001b[?25l\u001b[?25hdone\n"
          ]
        }
      ]
    },
    {
      "cell_type": "code",
      "source": [
        "import pandas as pd\n",
        "import openai\n",
        "import numpy as np\n",
        "import seaborn as sns\n",
        "from sklearn.metrics.pairwise import cosine_similarity\n",
        "from sentence_transformers import SentenceTransformer"
      ],
      "metadata": {
        "id": "u8BnL3nKI9HJ"
      },
      "execution_count": 2,
      "outputs": []
    },
    {
      "cell_type": "code",
      "source": [
        "# Minimum length of the sentences to be accounted as sentence.\n",
        "MIN_LEN = 10\n",
        "\n",
        "# Top sentences we want to store/account for metric \n",
        "rank = 5\n",
        "\n",
        "# Create an empty dataframe to store these sentences\n",
        "sentences_by_rank = pd.DataFrame(columns=range(rank*2))\n",
        "\n",
        "# Create the transformer and read the dataset\n",
        "model = SentenceTransformer('all-MiniLM-L6-v2')\n",
        "cnn_df = pd.read_csv(\"cnn_dailymail/train.csv\")\n",
        "\n",
        "# Loop through the entire dataset:\n",
        "for i in range(len(cnn_df)):\n",
        "  # get the paragraph and tokenize it\n",
        "  paragraph = cnn_df['article'].values[:i+1]\n",
        "  paragraph = paragraph[0]\n",
        "  sentences = [s+'.' for s in paragraph.split('.') if len(s.strip()) > MIN_LEN]\n",
        "\n",
        "  # add the paragraph to last \n",
        "  sentences.append(paragraph)\n",
        "\n",
        "  # encode embeddings\n",
        "  X = embeddings = model.encode(sentences)\n",
        "  X.shape\n",
        "\n",
        "  # apply cossim on the sentences\n",
        "  cossim = cosine_similarity(X, X)\n",
        "  #sns.heatmap(cossim)\n",
        "\n",
        "  # obtain only the last row of arrays (match sentences to the paragraph)\n",
        "  result = cossim[len(cossim)-1]\n",
        "  # sort the list in descending order and store the original position\n",
        "  sorted_result = sorted(enumerate(result), key=lambda x: x[1], reverse=True)\n",
        "  print(sorted_result)\n",
        "  \n",
        "  # loop through the top {rank} of the sentences and store the cossim and sentence of each\n",
        "  output = []\n",
        "  for i in range(1,rank+1):\n",
        "    output.append(sorted_result[i][1])\n",
        "    output.append(sentences[i])\n",
        "  sentences_by_rank.append(pd.Series(output, index=sentences_by_rank.columns), ignore_index=True)\n",
        "\n",
        "  # output the senteces\n",
        "  print(sentences_by_rank)\n"
      ],
      "metadata": {
        "colab": {
          "base_uri": "https://localhost:8080/",
          "height": 480
        },
        "id": "p5cywpqmNH-U",
        "outputId": "24d0e5f0-9b5a-471c-c884-30e3439e8637"
      },
      "execution_count": 16,
      "outputs": [
        {
          "output_type": "stream",
          "name": "stdout",
          "text": [
            "[0.06431613 0.10116199 0.10130041 0.88779104 0.5675535  0.86262155\n",
            " 0.4032426  0.58998287 0.5981258  0.4769823  0.53003603 0.99999976]\n",
            "[(11, 0.99999976), (3, 0.88779104), (5, 0.86262155), (8, 0.5981258), (7, 0.58998287), (4, 0.5675535), (10, 0.53003603), (9, 0.4769823), (6, 0.4032426), (2, 0.10130041), (1, 0.10116199), (0, 0.06431613)]\n",
            "[0.88779104, ' 14:11 EST, 25 October 2013 .']\n",
            "[0.88779104, ' 14:11 EST, 25 October 2013 .', 0.86262155, ' 15:36 EST, 25 October 2013 .']\n",
            "[0.88779104, ' 14:11 EST, 25 October 2013 .', 0.86262155, ' 15:36 EST, 25 October 2013 .', 0.5981258, ' The bishop of the Fargo Catholic Diocese in North Dakota has exposed potentially hundreds of church members in Fargo, Grand Forks and Jamestown to the hepatitis A virus in late September and early October.']\n",
            "[0.88779104, ' 14:11 EST, 25 October 2013 .', 0.86262155, ' 15:36 EST, 25 October 2013 .', 0.5981258, ' The bishop of the Fargo Catholic Diocese in North Dakota has exposed potentially hundreds of church members in Fargo, Grand Forks and Jamestown to the hepatitis A virus in late September and early October.', 0.58998287, ' The state Health Department has issued an advisory of exposure for anyone who attended five churches and took communion.']\n",
            "[0.88779104, ' 14:11 EST, 25 October 2013 .', 0.86262155, ' 15:36 EST, 25 October 2013 .', 0.5981258, ' The bishop of the Fargo Catholic Diocese in North Dakota has exposed potentially hundreds of church members in Fargo, Grand Forks and Jamestown to the hepatitis A virus in late September and early October.', 0.58998287, ' The state Health Department has issued an advisory of exposure for anyone who attended five churches and took communion.', 0.5675535, ' Bishop John Folda (pictured) of the Fargo Catholic Diocese in North Dakota has exposed potentially hundreds of church members in Fargo, Grand Forks and Jamestown to the hepatitis A .']\n",
            "Empty DataFrame\n",
            "Columns: [0, 1, 2, 3, 4, 5, 6, 7, 8, 9]\n",
            "Index: []\n"
          ]
        },
        {
          "output_type": "display_data",
          "data": {
            "text/plain": [
              "<Figure size 432x288 with 2 Axes>"
            ],
            "image/png": "[encoded data removed]"
          },
          "metadata": {
            "needs_background": "light"
          }
        }
      ]
    }
  ]
}