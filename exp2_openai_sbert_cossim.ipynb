{
  "nbformat": 4,
  "nbformat_minor": 0,
  "metadata": {
    "colab": {
      "provenance": [],
      "authorship_tag": "ABX9TyMoJhR5Rck85/3SG+iVbVg0",
      "include_colab_link": true
    },
    "kernelspec": {
      "name": "python3",
      "display_name": "Python 3"
    },
    "language_info": {
      "name": "python"
    }
  },
  "cells": [
    {
      "cell_type": "markdown",
      "metadata": {
        "id": "view-in-github",
        "colab_type": "text"
      },
      "source": [
        "<a href=\"https://colab.research.google.com/github/cfong32/key-sentence-extraction/blob/main/exp2_openai_sbert_cossim.ipynb\" target=\"_parent\"><img src=\"https://colab.research.google.com/assets/colab-badge.svg\" alt=\"Open In Colab\"/></a>"
      ]
    },
    {
      "cell_type": "code",
      "source": [
        "!pip install -q openai sentence-transformers"
      ],
      "metadata": {
        "id": "OT19RPE2U712"
      },
      "execution_count": 1,
      "outputs": []
    },
    {
      "cell_type": "code",
      "execution_count": 2,
      "metadata": {
        "id": "dI1Zw9f5UhHh"
      },
      "outputs": [],
      "source": [
        "# import packages\n",
        "import openai\n",
        "import numpy as np\n",
        "import seaborn as sns\n",
        "from sklearn.metrics.pairwise import cosine_similarity\n",
        "from sentence_transformers import SentenceTransformer"
      ]
    },
    {
      "cell_type": "markdown",
      "source": [
        "# Having some text"
      ],
      "metadata": {
        "id": "p2Y_6yLjGT5C"
      }
    },
    {
      "cell_type": "code",
      "source": [
        "MIN_LEN = 10\n",
        "\n",
        "# split the paragraph into senentences\n",
        "paragraph = \"Democratic presidential candidate Bernie Sanders explained in an interview with ABC News today how in the span of just a few days he suggested that his opponent, Hillary Clinton, was both qualified and unqualified to be president. “In a sense it’s both,” he told ABC News' Cecilia Vega while touring the neighborhood in Brooklyn where he grew up. Sanders questioned Clinton’s judgment on several key issues, including her vote in favor of the war in Iraq, what he called her “dependence” on super PACs and Wall Street money as well as her position on trade agreements like NAFTA.  “Is that person who has that kind of bad judgment qualified to be president of the United States?” Sanders asked. “Well, qualified is a broad word, but I think that judgment lapse suggests that, you know, she might not be the best president that we need.”Sanders added: “On the other hand, if you look at her resume, if you like, at her experience, this was a woman who kind of broke the mold as first lady, and I think a very good job in that respect.” Earlier today in an appearance on ABC’s “The View,” Sanders acknowledged that Clinton was “obviously” experienced enough to be president -- a departure from comments he made two days earlier at a campaign event in Pennsylvania, when he said: “She has been saying lately that she thinks that I am quote-unquote, not qualified to be president. Now, let me, let me just say in response to Secretary Clinton, I don’t believe that she is qualified.” Should she become the nominee, Sanders told Vega that he would do “everything” possible to make sure a candidate from the other side of the aisle doesn’t end up in the White House. “It would be a disaster for this country to have a Donald Trump or some other right-wing Republican in the White House,” Sanders said. The Vermont senator pledged at the outset of his campaign to stay positive. But both he and Clinton have been skirmishing with increasing frequency and intensity ahead of the April 19 New York primary. When asked by Vega if he has any regrets, Sanders said with a laugh, “It’s hard to remember. I’ve said a million things.” He added, “You know, I’m sure that I have, but there’s nothing that particularly comes to mind at this moment.”\"\n",
        "sentences = [s+'.' for s in paragraph.split('.') if len(s.strip()) > MIN_LEN]\n",
        "\n",
        "# append the whole paragraph to the last (for efficient api call)\n",
        "sentences.append(paragraph)\n",
        "\n",
        "len(sentences), sentences"
      ],
      "metadata": {
        "id": "pOf7-jGvXkYc",
        "colab": {
          "base_uri": "https://localhost:8080/"
        },
        "outputId": "6d0d5e4c-a6d8-48b6-a4ae-239da243b443"
      },
      "execution_count": 3,
      "outputs": [
        {
          "output_type": "execute_result",
          "data": {
            "text/plain": [
              "(16,\n",
              " ['Democratic presidential candidate Bernie Sanders explained in an interview with ABC News today how in the span of just a few days he suggested that his opponent, Hillary Clinton, was both qualified and unqualified to be president.',\n",
              "  \" “In a sense it’s both,” he told ABC News' Cecilia Vega while touring the neighborhood in Brooklyn where he grew up.\",\n",
              "  ' Sanders questioned Clinton’s judgment on several key issues, including her vote in favor of the war in Iraq, what he called her “dependence” on super PACs and Wall Street money as well as her position on trade agreements like NAFTA.',\n",
              "  '  “Is that person who has that kind of bad judgment qualified to be president of the United States?” Sanders asked.',\n",
              "  ' “Well, qualified is a broad word, but I think that judgment lapse suggests that, you know, she might not be the best president that we need.',\n",
              "  '”Sanders added: “On the other hand, if you look at her resume, if you like, at her experience, this was a woman who kind of broke the mold as first lady, and I think a very good job in that respect.',\n",
              "  '” Earlier today in an appearance on ABC’s “The View,” Sanders acknowledged that Clinton was “obviously” experienced enough to be president -- a departure from comments he made two days earlier at a campaign event in Pennsylvania, when he said: “She has been saying lately that she thinks that I am quote-unquote, not qualified to be president.',\n",
              "  ' Now, let me, let me just say in response to Secretary Clinton, I don’t believe that she is qualified.',\n",
              "  '” Should she become the nominee, Sanders told Vega that he would do “everything” possible to make sure a candidate from the other side of the aisle doesn’t end up in the White House.',\n",
              "  ' “It would be a disaster for this country to have a Donald Trump or some other right-wing Republican in the White House,” Sanders said.',\n",
              "  ' The Vermont senator pledged at the outset of his campaign to stay positive.',\n",
              "  ' But both he and Clinton have been skirmishing with increasing frequency and intensity ahead of the April 19 New York primary.',\n",
              "  ' When asked by Vega if he has any regrets, Sanders said with a laugh, “It’s hard to remember.',\n",
              "  ' I’ve said a million things.',\n",
              "  '” He added, “You know, I’m sure that I have, but there’s nothing that particularly comes to mind at this moment.',\n",
              "  \"Democratic presidential candidate Bernie Sanders explained in an interview with ABC News today how in the span of just a few days he suggested that his opponent, Hillary Clinton, was both qualified and unqualified to be president. “In a sense it’s both,” he told ABC News' Cecilia Vega while touring the neighborhood in Brooklyn where he grew up. Sanders questioned Clinton’s judgment on several key issues, including her vote in favor of the war in Iraq, what he called her “dependence” on super PACs and Wall Street money as well as her position on trade agreements like NAFTA.  “Is that person who has that kind of bad judgment qualified to be president of the United States?” Sanders asked. “Well, qualified is a broad word, but I think that judgment lapse suggests that, you know, she might not be the best president that we need.”Sanders added: “On the other hand, if you look at her resume, if you like, at her experience, this was a woman who kind of broke the mold as first lady, and I think a very good job in that respect.” Earlier today in an appearance on ABC’s “The View,” Sanders acknowledged that Clinton was “obviously” experienced enough to be president -- a departure from comments he made two days earlier at a campaign event in Pennsylvania, when he said: “She has been saying lately that she thinks that I am quote-unquote, not qualified to be president. Now, let me, let me just say in response to Secretary Clinton, I don’t believe that she is qualified.” Should she become the nominee, Sanders told Vega that he would do “everything” possible to make sure a candidate from the other side of the aisle doesn’t end up in the White House. “It would be a disaster for this country to have a Donald Trump or some other right-wing Republican in the White House,” Sanders said. The Vermont senator pledged at the outset of his campaign to stay positive. But both he and Clinton have been skirmishing with increasing frequency and intensity ahead of the April 19 New York primary. When asked by Vega if he has any regrets, Sanders said with a laugh, “It’s hard to remember. I’ve said a million things.” He added, “You know, I’m sure that I have, but there’s nothing that particularly comes to mind at this moment.”\"])"
            ]
          },
          "metadata": {},
          "execution_count": 3
        }
      ]
    },
    {
      "cell_type": "markdown",
      "source": [
        "# Make text embeddings using Sentence-BERT"
      ],
      "metadata": {
        "id": "wkrHO83lGZte"
      }
    },
    {
      "cell_type": "code",
      "source": [
        "# encode embeddings\n",
        "model = SentenceTransformer('all-MiniLM-L6-v2')\n",
        "X = embeddings = model.encode(sentences)\n",
        "X.shape"
      ],
      "metadata": {
        "id": "k-BLcAe5Fd6N",
        "outputId": "cca5ff5c-1f1c-487c-a5d1-ef68ea4f5145",
        "colab": {
          "base_uri": "https://localhost:8080/"
        }
      },
      "execution_count": 4,
      "outputs": [
        {
          "output_type": "execute_result",
          "data": {
            "text/plain": [
              "(16, 384)"
            ]
          },
          "metadata": {},
          "execution_count": 4
        }
      ]
    },
    {
      "cell_type": "code",
      "source": [
        "# compute the pairwise cosine similarities\n",
        "# the last one is the whole paragraph\n",
        "cossim = cosine_similarity(X, X)\n",
        "sns.heatmap(cossim)"
      ],
      "metadata": {
        "id": "Fn_EvCNfGynL",
        "outputId": "74f63b9f-019d-4bc5-e46a-a91199a9d9bf",
        "colab": {
          "base_uri": "https://localhost:8080/",
          "height": 286
        }
      },
      "execution_count": 5,
      "outputs": [
        {
          "output_type": "execute_result",
          "data": {
            "text/plain": [
              "<matplotlib.axes._subplots.AxesSubplot at 0x7f22349364c0>"
            ]
          },
          "metadata": {},
          "execution_count": 5
        },
        {
          "output_type": "display_data",
          "data": {
            "text/plain": [
              "<Figure size 432x288 with 2 Axes>"
            ],
            "image/png": "[encoded data removed]"
          },
          "metadata": {
            "needs_background": "light"
          }
        }
      ]
    },
    {
      "cell_type": "markdown",
      "source": [
        "# Make text embeddings using openai (GPT)"
      ],
      "metadata": {
        "id": "53iljMgYG2wr"
      }
    },
    {
      "cell_type": "code",
      "source": [
        "# check connection and authentication with openai\n",
        "MODEL_TO_USE = 'text-embedding-ada-002'\n",
        "API_KEY = open('api_key.txt').read()        # the api_key is in a separate txt file\n",
        "\n",
        "openai.api_key = API_KEY\n",
        "res = [obj for obj in openai.Engine.list()['data']\n",
        "       if obj['id'] == MODEL_TO_USE][0]\n",
        "print(res)"
      ],
      "metadata": {
        "colab": {
          "base_uri": "https://localhost:8080/"
        },
        "id": "nQm9ML0VU417",
        "outputId": "2c1211e0-7b19-4cba-95a3-9d73683eb5e9"
      },
      "execution_count": 6,
      "outputs": [
        {
          "output_type": "stream",
          "name": "stdout",
          "text": [
            "{\n",
            "  \"created\": null,\n",
            "  \"id\": \"text-embedding-ada-002\",\n",
            "  \"object\": \"engine\",\n",
            "  \"owner\": \"openai-internal\",\n",
            "  \"permissions\": null,\n",
            "  \"ready\": true\n",
            "}\n"
          ]
        }
      ]
    },
    {
      "cell_type": "code",
      "source": [
        "# make API call\n",
        "res = openai.Embedding.create(\n",
        "    input=sentences,\n",
        "    engine=MODEL_TO_USE\n",
        ")\n",
        "\n",
        "# pack result into an ndarray\n",
        "X = np.array([r['embedding'] for r in res['data']])\n",
        "X.shape"
      ],
      "metadata": {
        "id": "vE34SdFJVHcR",
        "colab": {
          "base_uri": "https://localhost:8080/"
        },
        "outputId": "b9ebcd12-2777-4d1e-84de-b0cc10d97f55"
      },
      "execution_count": 7,
      "outputs": [
        {
          "output_type": "execute_result",
          "data": {
            "text/plain": [
              "(16, 1536)"
            ]
          },
          "metadata": {},
          "execution_count": 7
        }
      ]
    },
    {
      "cell_type": "code",
      "source": [
        "# compute the pairwise cosine similarities\n",
        "# the last one is the whole paragraph\n",
        "cossim = cosine_similarity(X, X)\n",
        "sns.heatmap(cossim)"
      ],
      "metadata": {
        "colab": {
          "base_uri": "https://localhost:8080/",
          "height": 286
        },
        "id": "CsD1zMJubbWm",
        "outputId": "c367b2ae-151b-48a9-ef18-8cffddcbe60b"
      },
      "execution_count": 8,
      "outputs": [
        {
          "output_type": "execute_result",
          "data": {
            "text/plain": [
              "<matplotlib.axes._subplots.AxesSubplot at 0x7f21d04bf730>"
            ]
          },
          "metadata": {},
          "execution_count": 8
        },
        {
          "output_type": "display_data",
          "data": {
            "text/plain": [
              "<Figure size 432x288 with 2 Axes>"
            ],
            "image/png": "[encoded data removed]"
          },
          "metadata": {
            "needs_background": "light"
          }
        }
      ]
    },
    {
      "cell_type": "code",
      "source": [],
      "metadata": {
        "id": "2RZLIPReaCRo"
      },
      "execution_count": 8,
      "outputs": []
    }
  ]
}