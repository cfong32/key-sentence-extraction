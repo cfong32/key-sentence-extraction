{
  "nbformat": 4,
  "nbformat_minor": 0,
  "metadata": {
    "colab": {
      "provenance": [],
      "authorship_tag": "ABX9TyPXqkcm7lBYHfC5ALPuwiNv",
      "include_colab_link": true
    },
    "kernelspec": {
      "name": "python3",
      "display_name": "Python 3"
    },
    "language_info": {
      "name": "python"
    }
  },
  "cells": [
    {
      "cell_type": "markdown",
      "metadata": {
        "id": "view-in-github",
        "colab_type": "text"
      },
      "source": [
        "<a href=\"https://colab.research.google.com/github/cfong32/key-sentence-extraction/blob/main/exp11_check_chatgpt_json_230306.ipynb\" target=\"_parent\"><img src=\"https://colab.research.google.com/assets/colab-badge.svg\" alt=\"Open In Colab\"/></a>"
      ]
    },
    {
      "cell_type": "code",
      "execution_count": 1,
      "metadata": {
        "colab": {
          "base_uri": "https://localhost:8080/"
        },
        "id": "JSLJEeO3FDl7",
        "outputId": "e088fc72-16ac-4ef9-88e9-b4afbbcb4dfd"
      },
      "outputs": [
        {
          "output_type": "stream",
          "name": "stdout",
          "text": [
            "--2023-03-06 18:23:41--  https://uoguelphca-my.sharepoint.com/:u:/g/personal/chungyan_uoguelph_ca/EY6rSyKsV_pPosR3XRBqwJkBF-TjUwqQPyMpm6tmSuxOQw?download=1\n",
            "Resolving uoguelphca-my.sharepoint.com (uoguelphca-my.sharepoint.com)... 13.107.136.8, 13.107.138.8, 2620:1ec:8f8::8, ...\n",
            "Connecting to uoguelphca-my.sharepoint.com (uoguelphca-my.sharepoint.com)|13.107.136.8|:443... connected.\n",
            "HTTP request sent, awaiting response... 302 Found\n",
            "Location: https://uoguelphca-my.sharepoint.com/personal/chungyan_uoguelph_ca/_layouts/15/download.aspx?UniqueId=224bab8e57ac4ffaa2c4775d106ac099 [following]\n",
            "--2023-03-06 18:23:42--  https://uoguelphca-my.sharepoint.com/personal/chungyan_uoguelph_ca/_layouts/15/download.aspx?UniqueId=224bab8e57ac4ffaa2c4775d106ac099\n",
            "Reusing existing connection to uoguelphca-my.sharepoint.com:443.\n",
            "HTTP request sent, awaiting response... 200 OK\n",
            "Length: 88062 (86K) [application/json]\n",
            "Saving to: ‘chatgpt.json’\n",
            "\n",
            "chatgpt.json        100%[===================>]  86.00K   271KB/s    in 0.3s    \n",
            "\n",
            "2023-03-06 18:23:43 (271 KB/s) - ‘chatgpt.json’ saved [88062/88062]\n",
            "\n"
          ]
        }
      ],
      "source": [
        "!wget -O chatgpt.json https://uoguelphca-my.sharepoint.com/:u:/g/personal/chungyan_uoguelph_ca/EY6rSyKsV_pPosR3XRBqwJkBF-TjUwqQPyMpm6tmSuxOQw?download=1"
      ]
    },
    {
      "cell_type": "code",
      "source": [
        "import json\n",
        "import pandas as pd\n",
        "from pprint import pprint"
      ],
      "metadata": {
        "id": "K3ic4GNcFIoR"
      },
      "execution_count": 2,
      "outputs": []
    },
    {
      "cell_type": "code",
      "source": [
        "# read data into dataframe\n",
        "\n",
        "data = json.load(open('chatgpt.json'))\n",
        "df = pd.DataFrame(data)\n",
        "df.key_sentences = df.key_sentences.map(lambda x: x.strip())\n",
        "df"
      ],
      "metadata": {
        "colab": {
          "base_uri": "https://localhost:8080/",
          "height": 424
        },
        "id": "RixcyWWEFLuP",
        "outputId": "e30816d8-f16b-4b14-b24b-3acfec7a5a0a"
      },
      "execution_count": 3,
      "outputs": [
        {
          "output_type": "execute_result",
          "data": {
            "text/plain": [
              "                                            paragraphs  \\\n",
              "0    Climate change is one of the most pressing iss...   \n",
              "1    Education is the key to unlocking a better fut...   \n",
              "2    The internet has revolutionized the way we com...   \n",
              "3    Mental health is just as important as physical...   \n",
              "4    Diversity and inclusion are essential for crea...   \n",
              "..                                                 ...   \n",
              "198  Traveling can be an enriching and transformati...   \n",
              "199  Nutrition is an important aspect of overall he...   \n",
              "200  Effective communication is essential in both p...   \n",
              "201  Mindfulness is a technique that can help us cu...   \n",
              "202  The internet has revolutionized the way we com...   \n",
              "\n",
              "                                         key_sentences  \n",
              "0    We need to act urgently to reduce our greenhou...  \n",
              "1    Education is the key to unlocking a better fut...  \n",
              "2    As we continue to rely on technology more and ...  \n",
              "3    It is crucial that we prioritize mental health...  \n",
              "4    Diversity and inclusion are essential for crea...  \n",
              "..                                                 ...  \n",
              "198  Travel can broaden our horizons and provide ne...  \n",
              "199  A well-balanced diet can provide us with the n...  \n",
              "200  Good communication skills can help build trust...  \n",
              "201  Mindfulness practices can help reduce stress a...  \n",
              "202  The internet has transformed many aspects of m...  \n",
              "\n",
              "[203 rows x 2 columns]"
            ],
            "text/html": [
              "\n",
              "  <div id=\"df-4011087d-7659-414f-bea8-c044cd689761\">\n",
              "    <div class=\"colab-df-container\">\n",
              "      <div>\n",
              "<style scoped>\n",
              "    .dataframe tbody tr th:only-of-type {\n",
              "        vertical-align: middle;\n",
              "    }\n",
              "\n",
              "    .dataframe tbody tr th {\n",
              "        vertical-align: top;\n",
              "    }\n",
              "\n",
              "    .dataframe thead th {\n",
              "        text-align: right;\n",
              "    }\n",
              "</style>\n",
              "<table border=\"1\" class=\"dataframe\">\n",
              "  <thead>\n",
              "    <tr style=\"text-align: right;\">\n",
              "      <th></th>\n",
              "      <th>paragraphs</th>\n",
              "      <th>key_sentences</th>\n",
              "    </tr>\n",
              "  </thead>\n",
              "  <tbody>\n",
              "    <tr>\n",
              "      <th>0</th>\n",
              "      <td>Climate change is one of the most pressing iss...</td>\n",
              "      <td>We need to act urgently to reduce our greenhou...</td>\n",
              "    </tr>\n",
              "    <tr>\n",
              "      <th>1</th>\n",
              "      <td>Education is the key to unlocking a better fut...</td>\n",
              "      <td>Education is the key to unlocking a better fut...</td>\n",
              "    </tr>\n",
              "    <tr>\n",
              "      <th>2</th>\n",
              "      <td>The internet has revolutionized the way we com...</td>\n",
              "      <td>As we continue to rely on technology more and ...</td>\n",
              "    </tr>\n",
              "    <tr>\n",
              "      <th>3</th>\n",
              "      <td>Mental health is just as important as physical...</td>\n",
              "      <td>It is crucial that we prioritize mental health...</td>\n",
              "    </tr>\n",
              "    <tr>\n",
              "      <th>4</th>\n",
              "      <td>Diversity and inclusion are essential for crea...</td>\n",
              "      <td>Diversity and inclusion are essential for crea...</td>\n",
              "    </tr>\n",
              "    <tr>\n",
              "      <th>...</th>\n",
              "      <td>...</td>\n",
              "      <td>...</td>\n",
              "    </tr>\n",
              "    <tr>\n",
              "      <th>198</th>\n",
              "      <td>Traveling can be an enriching and transformati...</td>\n",
              "      <td>Travel can broaden our horizons and provide ne...</td>\n",
              "    </tr>\n",
              "    <tr>\n",
              "      <th>199</th>\n",
              "      <td>Nutrition is an important aspect of overall he...</td>\n",
              "      <td>A well-balanced diet can provide us with the n...</td>\n",
              "    </tr>\n",
              "    <tr>\n",
              "      <th>200</th>\n",
              "      <td>Effective communication is essential in both p...</td>\n",
              "      <td>Good communication skills can help build trust...</td>\n",
              "    </tr>\n",
              "    <tr>\n",
              "      <th>201</th>\n",
              "      <td>Mindfulness is a technique that can help us cu...</td>\n",
              "      <td>Mindfulness practices can help reduce stress a...</td>\n",
              "    </tr>\n",
              "    <tr>\n",
              "      <th>202</th>\n",
              "      <td>The internet has revolutionized the way we com...</td>\n",
              "      <td>The internet has transformed many aspects of m...</td>\n",
              "    </tr>\n",
              "  </tbody>\n",
              "</table>\n",
              "<p>203 rows × 2 columns</p>\n",
              "</div>\n",
              "      <button class=\"colab-df-convert\" onclick=\"convertToInteractive('df-4011087d-7659-414f-bea8-c044cd689761')\"\n",
              "              title=\"Convert this dataframe to an interactive table.\"\n",
              "              style=\"display:none;\">\n",
              "        \n",
              "  <svg xmlns=\"http://www.w3.org/2000/svg\" height=\"24px\"viewBox=\"0 0 24 24\"\n",
              "       width=\"24px\">\n",
              "    <path d=\"M0 0h24v24H0V0z\" fill=\"none\"/>\n",
              "    <path d=\"M18.56 5.44l.94 2.06.94-2.06 2.06-.94-2.06-.94-.94-2.06-.94 2.06-2.06.94zm-11 1L8.5 8.5l.94-2.06 2.06-.94-2.06-.94L8.5 2.5l-.94 2.06-2.06.94zm10 10l.94 2.06.94-2.06 2.06-.94-2.06-.94-.94-2.06-.94 2.06-2.06.94z\"/><path d=\"M17.41 7.96l-1.37-1.37c-.4-.4-.92-.59-1.43-.59-.52 0-1.04.2-1.43.59L10.3 9.45l-7.72 7.72c-.78.78-.78 2.05 0 2.83L4 21.41c.39.39.9.59 1.41.59.51 0 1.02-.2 1.41-.59l7.78-7.78 2.81-2.81c.8-.78.8-2.07 0-2.86zM5.41 20L4 18.59l7.72-7.72 1.47 1.35L5.41 20z\"/>\n",
              "  </svg>\n",
              "      </button>\n",
              "      \n",
              "  <style>\n",
              "    .colab-df-container {\n",
              "      display:flex;\n",
              "      flex-wrap:wrap;\n",
              "      gap: 12px;\n",
              "    }\n",
              "\n",
              "    .colab-df-convert {\n",
              "      background-color: #E8F0FE;\n",
              "      border: none;\n",
              "      border-radius: 50%;\n",
              "      cursor: pointer;\n",
              "      display: none;\n",
              "      fill: #1967D2;\n",
              "      height: 32px;\n",
              "      padding: 0 0 0 0;\n",
              "      width: 32px;\n",
              "    }\n",
              "\n",
              "    .colab-df-convert:hover {\n",
              "      background-color: #E2EBFA;\n",
              "      box-shadow: 0px 1px 2px rgba(60, 64, 67, 0.3), 0px 1px 3px 1px rgba(60, 64, 67, 0.15);\n",
              "      fill: #174EA6;\n",
              "    }\n",
              "\n",
              "    [theme=dark] .colab-df-convert {\n",
              "      background-color: #3B4455;\n",
              "      fill: #D2E3FC;\n",
              "    }\n",
              "\n",
              "    [theme=dark] .colab-df-convert:hover {\n",
              "      background-color: #434B5C;\n",
              "      box-shadow: 0px 1px 3px 1px rgba(0, 0, 0, 0.15);\n",
              "      filter: drop-shadow(0px 1px 2px rgba(0, 0, 0, 0.3));\n",
              "      fill: #FFFFFF;\n",
              "    }\n",
              "  </style>\n",
              "\n",
              "      <script>\n",
              "        const buttonEl =\n",
              "          document.querySelector('#df-4011087d-7659-414f-bea8-c044cd689761 button.colab-df-convert');\n",
              "        buttonEl.style.display =\n",
              "          google.colab.kernel.accessAllowed ? 'block' : 'none';\n",
              "\n",
              "        async function convertToInteractive(key) {\n",
              "          const element = document.querySelector('#df-4011087d-7659-414f-bea8-c044cd689761');\n",
              "          const dataTable =\n",
              "            await google.colab.kernel.invokeFunction('convertToInteractive',\n",
              "                                                     [key], {});\n",
              "          if (!dataTable) return;\n",
              "\n",
              "          const docLinkHtml = 'Like what you see? Visit the ' +\n",
              "            '<a target=\"_blank\" href=https://colab.research.google.com/notebooks/data_table.ipynb>data table notebook</a>'\n",
              "            + ' to learn more about interactive tables.';\n",
              "          element.innerHTML = '';\n",
              "          dataTable['output_type'] = 'display_data';\n",
              "          await google.colab.output.renderOutput(dataTable, element);\n",
              "          const docLink = document.createElement('div');\n",
              "          docLink.innerHTML = docLinkHtml;\n",
              "          element.appendChild(docLink);\n",
              "        }\n",
              "      </script>\n",
              "    </div>\n",
              "  </div>\n",
              "  "
            ]
          },
          "metadata": {},
          "execution_count": 3
        }
      ]
    },
    {
      "cell_type": "code",
      "source": [
        "# check which \"paragraphs\" contains \"key_sentences\" (in exact wording)\n",
        "\n",
        "is_extractive = df.apply(lambda x: x.key_sentences in x.paragraphs, axis=1)\n",
        "is_extractive"
      ],
      "metadata": {
        "colab": {
          "base_uri": "https://localhost:8080/"
        },
        "id": "JEngNdoeFUtW",
        "outputId": "aa9f5bd6-754a-4171-934e-b4bb6f212953"
      },
      "execution_count": 4,
      "outputs": [
        {
          "output_type": "execute_result",
          "data": {
            "text/plain": [
              "0       True\n",
              "1       True\n",
              "2       True\n",
              "3       True\n",
              "4       True\n",
              "       ...  \n",
              "198    False\n",
              "199     True\n",
              "200     True\n",
              "201    False\n",
              "202    False\n",
              "Length: 203, dtype: bool"
            ]
          },
          "metadata": {},
          "execution_count": 4
        }
      ]
    },
    {
      "cell_type": "code",
      "source": [
        "# print some examples which do NOT exactly match\n",
        "\n",
        "SEED = 0\n",
        "N_SAMPLE = 5\n",
        "\n",
        "for i, x in df[~is_extractive].sample(n=N_SAMPLE, random_state=SEED).iterrows():\n",
        "    print(f'index: {i}')\n",
        "    pprint(x.paragraphs)\n",
        "    pprint(x.key_sentences)\n",
        "    print()"
      ],
      "metadata": {
        "colab": {
          "base_uri": "https://localhost:8080/"
        },
        "id": "Yf-moYAzG1no",
        "outputId": "8e6b365f-0645-4d96-ba25-f70018f742ef"
      },
      "execution_count": 6,
      "outputs": [
        {
          "output_type": "stream",
          "name": "stdout",
          "text": [
            "index: 123\n",
            "('Another concern is the potential for AI to displace human workers, '\n",
            " 'particularly in industries such as manufacturing and transportation. As AI '\n",
            " 'becomes more advanced and capable of performing complex tasks, it may lead '\n",
            " 'to job loss and economic disruption.')\n",
            "'Another concern is the potential for AI to displace human workers.'\n",
            "\n",
            "index: 169\n",
            "('Education is important for personal and societal development. It provides '\n",
            " 'individuals with knowledge, skills, and values that they need to succeed in '\n",
            " 'life. Education can take different forms, such as formal education, '\n",
            " 'non-formal education, and informal education. Formal education is structured '\n",
            " 'and provided by schools, colleges, and universities, while non-formal '\n",
            " 'education includes training and vocational programs. Informal education is '\n",
            " 'acquired through daily experiences and interactions with people and the '\n",
            " 'environment.')\n",
            "('Education provides individuals with knowledge, skills, and values that they '\n",
            " 'need to succeed in life.')\n",
            "\n",
            "index: 135\n",
            "('However, there are also concerns about the potential negative impacts of AI, '\n",
            " 'such as job displacement and the possibility of machines making decisions '\n",
            " 'that are unethical or harmful.')\n",
            "'However, there are also concerns about the potential negative impacts of AI.'\n",
            "\n",
            "index: 43\n",
            "('Another significant contributor to global warming is deforestation. Trees '\n",
            " 'absorb carbon dioxide from the atmosphere and release oxygen, making them '\n",
            " \"crucial in regulating the Earth's climate. However, deforestation removes \"\n",
            " 'these trees and releases the carbon stored within them back into the '\n",
            " 'atmosphere, further contributing to the greenhouse effect.')\n",
            "('Deforestation removes trees and releases the carbon stored within them back '\n",
            " 'into the atmosphere, further contributing to the greenhouse effect.')\n",
            "\n",
            "index: 75\n",
            "('In conclusion, social media can have both positive and negative impacts on '\n",
            " \"mental health, and it's important to use it in a healthy and responsible \"\n",
            " 'way. This includes setting boundaries, being mindful of how social media '\n",
            " 'makes you feel, and promoting healthy social media use for children and '\n",
            " 'adults alike.')\n",
            "\"It's important to use social media in a healthy and responsible way.\"\n",
            "\n"
          ]
        }
      ]
    },
    {
      "cell_type": "code",
      "source": [],
      "metadata": {
        "id": "ojMayhrcFeOM"
      },
      "execution_count": 5,
      "outputs": []
    }
  ]
}