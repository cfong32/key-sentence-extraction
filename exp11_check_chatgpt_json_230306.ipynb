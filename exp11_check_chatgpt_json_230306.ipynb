{
  "nbformat": 4,
  "nbformat_minor": 0,
  "metadata": {
    "colab": {
      "provenance": [],
      "authorship_tag": "ABX9TyMXHkAego36bOq40ZXkigIE",
      "include_colab_link": true
    },
    "kernelspec": {
      "name": "python3",
      "display_name": "Python 3"
    },
    "language_info": {
      "name": "python"
    }
  },
  "cells": [
    {
      "cell_type": "markdown",
      "metadata": {
        "id": "view-in-github",
        "colab_type": "text"
      },
      "source": [
        "<a href=\"https://colab.research.google.com/github/cfong32/key-sentence-extraction/blob/main/exp11_check_chatgpt_json_230306.ipynb\" target=\"_parent\"><img src=\"https://colab.research.google.com/assets/colab-badge.svg\" alt=\"Open In Colab\"/></a>"
      ]
    },
    {
      "cell_type": "code",
      "execution_count": 1,
      "metadata": {
        "colab": {
          "base_uri": "https://localhost:8080/"
        },
        "id": "JSLJEeO3FDl7",
        "outputId": "18ae356c-834e-4601-8ea2-0ef3ca4424ab"
      },
      "outputs": [
        {
          "output_type": "stream",
          "name": "stdout",
          "text": [
            "--2023-03-07 23:08:29--  https://uoguelphca-my.sharepoint.com/:u:/g/personal/mhavaled_uoguelph_ca/EaXg7T8PSatNn7imm4pv22YBGJA1V1khPtg2r9zO-SUmeQ?download=1\n",
            "Resolving uoguelphca-my.sharepoint.com (uoguelphca-my.sharepoint.com)... 13.107.136.8, 13.107.138.8, 2620:1ec:8f8::8, ...\n",
            "Connecting to uoguelphca-my.sharepoint.com (uoguelphca-my.sharepoint.com)|13.107.136.8|:443... connected.\n",
            "HTTP request sent, awaiting response... 302 Found\n",
            "Location: https://uoguelphca-my.sharepoint.com/personal/mhavaled_uoguelph_ca/_layouts/15/download.aspx?UniqueId=3fede0a5490f4dab9fb8a69b8a6fdb66 [following]\n",
            "--2023-03-07 23:08:30--  https://uoguelphca-my.sharepoint.com/personal/mhavaled_uoguelph_ca/_layouts/15/download.aspx?UniqueId=3fede0a5490f4dab9fb8a69b8a6fdb66\n",
            "Reusing existing connection to uoguelphca-my.sharepoint.com:443.\n",
            "HTTP request sent, awaiting response... 200 OK\n",
            "Length: 89602 (88K) [application/json]\n",
            "Saving to: ‘result.json’\n",
            "\n",
            "result.json         100%[===================>]  87.50K  --.-KB/s    in 0.02s   \n",
            "\n",
            "2023-03-07 23:08:30 (3.93 MB/s) - ‘result.json’ saved [89602/89602]\n",
            "\n"
          ]
        }
      ],
      "source": [
        "!wget -O result.json https://uoguelphca-my.sharepoint.com/:u:/g/personal/mhavaled_uoguelph_ca/EaXg7T8PSatNn7imm4pv22YBGJA1V1khPtg2r9zO-SUmeQ?download=1"
      ]
    },
    {
      "cell_type": "code",
      "source": [
        "import json\n",
        "import pandas as pd\n",
        "from pprint import pprint"
      ],
      "metadata": {
        "id": "K3ic4GNcFIoR"
      },
      "execution_count": 2,
      "outputs": []
    },
    {
      "cell_type": "code",
      "source": [
        "# read data into dataframe\n",
        "\n",
        "data = json.load(open('result.json'))\n",
        "df = pd.DataFrame(data)\n",
        "df.key_sentences = df.key_sentences.map(lambda x: x.strip())\n",
        "df"
      ],
      "metadata": {
        "colab": {
          "base_uri": "https://localhost:8080/",
          "height": 424
        },
        "id": "RixcyWWEFLuP",
        "outputId": "14471492-abad-4939-f517-600d15537931"
      },
      "execution_count": 3,
      "outputs": [
        {
          "output_type": "execute_result",
          "data": {
            "text/plain": [
              "                                            paragraphs  \\\n",
              "0    Climate change is one of the most pressing iss...   \n",
              "1    Education is the key to unlocking a better fut...   \n",
              "2    The internet has revolutionized the way we com...   \n",
              "3    Mental health is just as important as physical...   \n",
              "4    Diversity and inclusion are essential for crea...   \n",
              "..                                                 ...   \n",
              "198  Traveling can be an enriching and transformati...   \n",
              "199  Nutrition is an important aspect of overall he...   \n",
              "200  Effective communication is essential in both p...   \n",
              "201  Mindfulness is a technique that can help us cu...   \n",
              "202  The internet has revolutionized the way we com...   \n",
              "\n",
              "                                         key_sentences  \n",
              "0    We need to act urgently to reduce our greenhou...  \n",
              "1    Education is the key to unlocking a better fut...  \n",
              "2    As we continue to rely on technology more and ...  \n",
              "3    It is crucial that we prioritize mental health...  \n",
              "4    Diversity and inclusion are essential for crea...  \n",
              "..                                                 ...  \n",
              "198  Travel can broaden our horizons and provide ne...  \n",
              "199  A well-balanced diet can provide us with the n...  \n",
              "200  Good communication skills can help build trust...  \n",
              "201  Mindfulness can also help us develop a greater...  \n",
              "202  However, it is important to be mindful of the ...  \n",
              "\n",
              "[203 rows x 2 columns]"
            ],
            "text/html": [
              "\n",
              "  <div id=\"df-c343b0af-954f-4ae6-960b-0a2c474648bd\">\n",
              "    <div class=\"colab-df-container\">\n",
              "      <div>\n",
              "<style scoped>\n",
              "    .dataframe tbody tr th:only-of-type {\n",
              "        vertical-align: middle;\n",
              "    }\n",
              "\n",
              "    .dataframe tbody tr th {\n",
              "        vertical-align: top;\n",
              "    }\n",
              "\n",
              "    .dataframe thead th {\n",
              "        text-align: right;\n",
              "    }\n",
              "</style>\n",
              "<table border=\"1\" class=\"dataframe\">\n",
              "  <thead>\n",
              "    <tr style=\"text-align: right;\">\n",
              "      <th></th>\n",
              "      <th>paragraphs</th>\n",
              "      <th>key_sentences</th>\n",
              "    </tr>\n",
              "  </thead>\n",
              "  <tbody>\n",
              "    <tr>\n",
              "      <th>0</th>\n",
              "      <td>Climate change is one of the most pressing iss...</td>\n",
              "      <td>We need to act urgently to reduce our greenhou...</td>\n",
              "    </tr>\n",
              "    <tr>\n",
              "      <th>1</th>\n",
              "      <td>Education is the key to unlocking a better fut...</td>\n",
              "      <td>Education is the key to unlocking a better fut...</td>\n",
              "    </tr>\n",
              "    <tr>\n",
              "      <th>2</th>\n",
              "      <td>The internet has revolutionized the way we com...</td>\n",
              "      <td>As we continue to rely on technology more and ...</td>\n",
              "    </tr>\n",
              "    <tr>\n",
              "      <th>3</th>\n",
              "      <td>Mental health is just as important as physical...</td>\n",
              "      <td>It is crucial that we prioritize mental health...</td>\n",
              "    </tr>\n",
              "    <tr>\n",
              "      <th>4</th>\n",
              "      <td>Diversity and inclusion are essential for crea...</td>\n",
              "      <td>Diversity and inclusion are essential for crea...</td>\n",
              "    </tr>\n",
              "    <tr>\n",
              "      <th>...</th>\n",
              "      <td>...</td>\n",
              "      <td>...</td>\n",
              "    </tr>\n",
              "    <tr>\n",
              "      <th>198</th>\n",
              "      <td>Traveling can be an enriching and transformati...</td>\n",
              "      <td>Travel can broaden our horizons and provide ne...</td>\n",
              "    </tr>\n",
              "    <tr>\n",
              "      <th>199</th>\n",
              "      <td>Nutrition is an important aspect of overall he...</td>\n",
              "      <td>A well-balanced diet can provide us with the n...</td>\n",
              "    </tr>\n",
              "    <tr>\n",
              "      <th>200</th>\n",
              "      <td>Effective communication is essential in both p...</td>\n",
              "      <td>Good communication skills can help build trust...</td>\n",
              "    </tr>\n",
              "    <tr>\n",
              "      <th>201</th>\n",
              "      <td>Mindfulness is a technique that can help us cu...</td>\n",
              "      <td>Mindfulness can also help us develop a greater...</td>\n",
              "    </tr>\n",
              "    <tr>\n",
              "      <th>202</th>\n",
              "      <td>The internet has revolutionized the way we com...</td>\n",
              "      <td>However, it is important to be mindful of the ...</td>\n",
              "    </tr>\n",
              "  </tbody>\n",
              "</table>\n",
              "<p>203 rows × 2 columns</p>\n",
              "</div>\n",
              "      <button class=\"colab-df-convert\" onclick=\"convertToInteractive('df-c343b0af-954f-4ae6-960b-0a2c474648bd')\"\n",
              "              title=\"Convert this dataframe to an interactive table.\"\n",
              "              style=\"display:none;\">\n",
              "        \n",
              "  <svg xmlns=\"http://www.w3.org/2000/svg\" height=\"24px\"viewBox=\"0 0 24 24\"\n",
              "       width=\"24px\">\n",
              "    <path d=\"M0 0h24v24H0V0z\" fill=\"none\"/>\n",
              "    <path d=\"M18.56 5.44l.94 2.06.94-2.06 2.06-.94-2.06-.94-.94-2.06-.94 2.06-2.06.94zm-11 1L8.5 8.5l.94-2.06 2.06-.94-2.06-.94L8.5 2.5l-.94 2.06-2.06.94zm10 10l.94 2.06.94-2.06 2.06-.94-2.06-.94-.94-2.06-.94 2.06-2.06.94z\"/><path d=\"M17.41 7.96l-1.37-1.37c-.4-.4-.92-.59-1.43-.59-.52 0-1.04.2-1.43.59L10.3 9.45l-7.72 7.72c-.78.78-.78 2.05 0 2.83L4 21.41c.39.39.9.59 1.41.59.51 0 1.02-.2 1.41-.59l7.78-7.78 2.81-2.81c.8-.78.8-2.07 0-2.86zM5.41 20L4 18.59l7.72-7.72 1.47 1.35L5.41 20z\"/>\n",
              "  </svg>\n",
              "      </button>\n",
              "      \n",
              "  <style>\n",
              "    .colab-df-container {\n",
              "      display:flex;\n",
              "      flex-wrap:wrap;\n",
              "      gap: 12px;\n",
              "    }\n",
              "\n",
              "    .colab-df-convert {\n",
              "      background-color: #E8F0FE;\n",
              "      border: none;\n",
              "      border-radius: 50%;\n",
              "      cursor: pointer;\n",
              "      display: none;\n",
              "      fill: #1967D2;\n",
              "      height: 32px;\n",
              "      padding: 0 0 0 0;\n",
              "      width: 32px;\n",
              "    }\n",
              "\n",
              "    .colab-df-convert:hover {\n",
              "      background-color: #E2EBFA;\n",
              "      box-shadow: 0px 1px 2px rgba(60, 64, 67, 0.3), 0px 1px 3px 1px rgba(60, 64, 67, 0.15);\n",
              "      fill: #174EA6;\n",
              "    }\n",
              "\n",
              "    [theme=dark] .colab-df-convert {\n",
              "      background-color: #3B4455;\n",
              "      fill: #D2E3FC;\n",
              "    }\n",
              "\n",
              "    [theme=dark] .colab-df-convert:hover {\n",
              "      background-color: #434B5C;\n",
              "      box-shadow: 0px 1px 3px 1px rgba(0, 0, 0, 0.15);\n",
              "      filter: drop-shadow(0px 1px 2px rgba(0, 0, 0, 0.3));\n",
              "      fill: #FFFFFF;\n",
              "    }\n",
              "  </style>\n",
              "\n",
              "      <script>\n",
              "        const buttonEl =\n",
              "          document.querySelector('#df-c343b0af-954f-4ae6-960b-0a2c474648bd button.colab-df-convert');\n",
              "        buttonEl.style.display =\n",
              "          google.colab.kernel.accessAllowed ? 'block' : 'none';\n",
              "\n",
              "        async function convertToInteractive(key) {\n",
              "          const element = document.querySelector('#df-c343b0af-954f-4ae6-960b-0a2c474648bd');\n",
              "          const dataTable =\n",
              "            await google.colab.kernel.invokeFunction('convertToInteractive',\n",
              "                                                     [key], {});\n",
              "          if (!dataTable) return;\n",
              "\n",
              "          const docLinkHtml = 'Like what you see? Visit the ' +\n",
              "            '<a target=\"_blank\" href=https://colab.research.google.com/notebooks/data_table.ipynb>data table notebook</a>'\n",
              "            + ' to learn more about interactive tables.';\n",
              "          element.innerHTML = '';\n",
              "          dataTable['output_type'] = 'display_data';\n",
              "          await google.colab.output.renderOutput(dataTable, element);\n",
              "          const docLink = document.createElement('div');\n",
              "          docLink.innerHTML = docLinkHtml;\n",
              "          element.appendChild(docLink);\n",
              "        }\n",
              "      </script>\n",
              "    </div>\n",
              "  </div>\n",
              "  "
            ]
          },
          "metadata": {},
          "execution_count": 3
        }
      ]
    },
    {
      "cell_type": "code",
      "source": [
        "# check which \"paragraphs\" contains \"key_sentences\" (in exact wording)\n",
        "\n",
        "is_extractive = df.apply(lambda x: x.key_sentences in x.paragraphs, axis=1)\n",
        "is_extractive.value_counts()"
      ],
      "metadata": {
        "colab": {
          "base_uri": "https://localhost:8080/"
        },
        "id": "JEngNdoeFUtW",
        "outputId": "14fc5c19-688a-4f10-e9cb-3790712286a3"
      },
      "execution_count": 10,
      "outputs": [
        {
          "output_type": "execute_result",
          "data": {
            "text/plain": [
              "True     195\n",
              "False      8\n",
              "dtype: int64"
            ]
          },
          "metadata": {},
          "execution_count": 10
        }
      ]
    },
    {
      "cell_type": "code",
      "source": [
        "is_extractive"
      ],
      "metadata": {
        "colab": {
          "base_uri": "https://localhost:8080/"
        },
        "id": "v8dEwktDVup6",
        "outputId": "2b088370-cf8c-45e8-a2cd-da9576520f54"
      },
      "execution_count": 11,
      "outputs": [
        {
          "output_type": "execute_result",
          "data": {
            "text/plain": [
              "0       True\n",
              "1       True\n",
              "2       True\n",
              "3       True\n",
              "4       True\n",
              "       ...  \n",
              "198    False\n",
              "199     True\n",
              "200     True\n",
              "201     True\n",
              "202     True\n",
              "Length: 203, dtype: bool"
            ]
          },
          "metadata": {},
          "execution_count": 11
        }
      ]
    },
    {
      "cell_type": "code",
      "source": [
        "# print some examples which do NOT exactly match\n",
        "\n",
        "SEED = 0\n",
        "N_SAMPLE = 5\n",
        "\n",
        "for i, x in df[~is_extractive].sample(n=N_SAMPLE, random_state=SEED).iterrows():\n",
        "    print(f'index: {i}')\n",
        "    pprint(x.paragraphs)\n",
        "    pprint(x.key_sentences)\n",
        "    print()"
      ],
      "metadata": {
        "colab": {
          "base_uri": "https://localhost:8080/"
        },
        "id": "Yf-moYAzG1no",
        "outputId": "3eafca33-670f-430e-f46c-f1e34ad79a62"
      },
      "execution_count": 12,
      "outputs": [
        {
          "output_type": "stream",
          "name": "stdout",
          "text": [
            "index: 196\n",
            "(\"Exercise is an important part of a healthy lifestyle. Whether it's a brisk \"\n",
            " 'walk, a workout at the gym, or a team sport, regular physical activity can '\n",
            " 'improve our physical and mental wellbeing. Exercise can also help reduce the '\n",
            " 'risk of chronic diseases such as diabetes, heart disease, and certain '\n",
            " 'cancers.')\n",
            "'Regular physical activity can improve our physical and mental wellbeing.'\n",
            "\n",
            "index: 46\n",
            "('In addition to these actions, there is a growing movement to divest from '\n",
            " 'fossil fuels and invest in sustainable alternatives. This divestment '\n",
            " 'movement aims to reduce the influence of the fossil fuel industry and '\n",
            " 'accelerate the transition to clean energy.')\n",
            "('There is a growing movement to divest from fossil fuels and invest in '\n",
            " 'sustainable alternatives.')\n",
            "\n",
            "index: 42\n",
            "('One of the main causes of global warming is the burning of fossil fuels such '\n",
            " 'as coal, oil, and gas for energy. These activities release large amounts of '\n",
            " 'greenhouse gases into the atmosphere, which trap heat and contribute to the '\n",
            " 'warming of the planet. As such, reducing our reliance on fossil fuels and '\n",
            " 'transitioning to clean, renewable sources of energy is essential in the '\n",
            " 'fight against global warming.')\n",
            "('Reducing our reliance on fossil fuels and transitioning to clean, renewable '\n",
            " 'sources of energy is essential in the fight against global warming.')\n",
            "\n",
            "index: 198\n",
            "(\"Traveling can be an enriching and transformative experience. Whether it's \"\n",
            " 'exploring a new city, immersing oneself in a different culture, or simply '\n",
            " 'taking a break from the routine of daily life, travel can broaden our '\n",
            " 'horizons and provide new perspectives. Travel can also help develop our '\n",
            " 'sense of empathy and compassion.')\n",
            "'Travel can broaden our horizons and provide new perspectives.'\n",
            "\n",
            "index: 47\n",
            "('In conclusion, global warming is a significant threat to our planet and our '\n",
            " 'way of life. However, by taking action to reduce our carbon footprint, '\n",
            " 'transition to clean energy, and support conservation efforts, we can work '\n",
            " 'together to mitigate the worst impacts of this crisis and build a more '\n",
            " 'sustainable future.')\n",
            "('By taking action to reduce our carbon footprint, transition to clean energy, '\n",
            " 'and support conservation efforts, we can work together to mitigate the worst '\n",
            " 'impacts of this crisis and build a more sustainable future.')\n",
            "\n"
          ]
        }
      ]
    },
    {
      "cell_type": "code",
      "source": [
        "def count_phrase(s):\n",
        "    count = 0\n",
        "    for i, x in df.iterrows():\n",
        "        if s.lower() in x.paragraphs.lower():\n",
        "            print(i, x.paragraphs)\n",
        "            count += 1\n",
        "    print('count:', count)"
      ],
      "metadata": {
        "id": "ojMayhrcFeOM"
      },
      "execution_count": 41,
      "outputs": []
    },
    {
      "cell_type": "code",
      "source": [
        "count_phrase('Climate change')"
      ],
      "metadata": {
        "id": "3jWvn52ra15X",
        "outputId": "3bb55a6b-3ae2-47b1-8d41-8912ce0408cd",
        "colab": {
          "base_uri": "https://localhost:8080/"
        }
      },
      "execution_count": 42,
      "outputs": [
        {
          "output_type": "stream",
          "name": "stdout",
          "text": [
            "0 Climate change is one of the most pressing issues facing our planet today. The rise in global temperatures due to human activities such as burning fossil fuels is causing catastrophic changes in weather patterns, melting ice caps, and rising sea levels. The consequences of inaction will be dire, with devastating effects on biodiversity, food security, and human health. We need to act urgently to reduce our greenhouse gas emissions and transition to clean energy sources if we are to prevent the worst-case scenarios.\n",
            "20 Environmental sustainability is a critical issue facing our planet, as we confront the challenges of climate change, biodiversity loss, and resource depletion. It is important that we take action at all levels, from individual behavior to corporate and government policy, to reduce our environmental impact and preserve our natural resources.\n",
            "27 Climate change is one of the most significant challenges facing the world today. It is caused by the increase in greenhouse gas emissions, primarily from burning fossil fuels. The effects of climate change are already being felt, including rising sea levels, extreme weather events, and melting ice caps. If we do not take action to reduce our greenhouse gas emissions, the consequences will be catastrophic.\n",
            "29 Another way to address climate change is to promote energy efficiency. Energy-efficient buildings, appliances, and vehicles can significantly reduce our energy consumption and greenhouse gas emissions. By improving energy efficiency, we can save money on energy bills, reduce our carbon footprint, and create jobs in the energy efficiency sector.\n",
            "32 Climate change is a global issue that requires international cooperation and action. The Paris Agreement, signed by nearly 200 countries, aims to limit global warming to well below 2 degrees Celsius. However, more needs to be done to meet this goal. Governments, businesses, and individuals all have a role to play in addressing climate change and reducing greenhouse gas emissions.\n",
            "33 In conclusion, addressing climate change requires a concerted effort from all of us. We must transition to renewable energy sources, promote energy efficiency, transition to low-emission vehicles, promote sustainable land use practices, and work together as a global community to reduce greenhouse gas emissions. The consequences of inaction are severe, and we must act now to secure a sustainable future for generations to come.\n",
            "55 Climate change is a global issue that poses significant risks to our planet and its inhabitants. The impacts of climate change are diverse, including rising sea levels, extreme weather events, and food and water insecurity.\n",
            "56 Human activities, such as burning fossil fuels and deforestation, are the primary drivers of climate change. Therefore, it's crucial to take action to reduce greenhouse gas emissions and transition to renewable energy sources.\n",
            "57 Governments, businesses, and individuals all have a role to play in addressing climate change. Policy solutions include implementing carbon pricing mechanisms, investing in green infrastructure, and incentivizing sustainable practices.\n",
            "59 The impacts of climate change are felt disproportionately by vulnerable populations, including low-income communities, indigenous peoples, and small island nations. Therefore, climate action must prioritize and center the needs of these communities.\n",
            "60 Addressing climate change requires international cooperation and collective action. This includes supporting developing countries in their efforts to mitigate and adapt to climate change, as well as holding high-emitting countries accountable for their emissions.\n",
            "61 In conclusion, climate change is a pressing issue that requires immediate action. The impacts of climate change are diverse and affect all aspects of our lives. Addressing climate change requires a combination of policy solutions, individual actions, and international cooperation, with a focus on prioritizing the needs of vulnerable populations.\n",
            "76 Climate change is a pressing global issue that is already having significant impacts on the environment and human societies. It is caused by a range of human activities, such as the burning of fossil fuels and deforestation.\n",
            "77 The impacts of climate change include rising temperatures, sea-level rise, increased frequency and severity of natural disasters, and threats to human health and food security.\n",
            "78 Addressing climate change requires a collective effort, with individuals, governments, and businesses all playing a role. This includes reducing greenhouse gas emissions, transitioning to renewable energy sources, and promoting sustainable practices in all aspects of life.\n",
            "79 Governments have a crucial role in addressing climate change, through policy and regulation. This includes setting emissions reduction targets, investing in renewable energy, and promoting sustainable land use practices.\n",
            "80 Businesses can also play a significant role in addressing climate change. This includes reducing emissions in their operations, investing in renewable energy, and promoting sustainable practices throughout their supply chains.\n",
            "81 Individual actions, such as reducing energy consumption, using public transportation, and eating a plant-based diet, can also make a difference in addressing climate change.\n",
            "82 In conclusion, addressing climate change is a complex and urgent global challenge. It requires a collective effort from individuals, governments, and businesses to reduce greenhouse gas emissions, transition to renewable energy, and promote sustainable practices in all aspects of life.\n",
            "97 Climate change is a global issue that affects all aspects of life on Earth. The burning of fossil fuels, deforestation, and other human activities have led to an increase in greenhouse gas emissions, leading to rising temperatures and a range of impacts on the environment and society.\n",
            "98 The impacts of climate change include more frequent and severe weather events, sea level rise, and changes to ecosystems and natural resources. These impacts have significant consequences for human health, food security, and economic stability.\n",
            "99 Addressing climate change requires a range of actions, including reducing greenhouse gas emissions, promoting renewable energy, and implementing adaptation strategies.\n",
            "100 Governments, businesses, and individuals all have a role to play in addressing climate change. This includes policy and regulatory measures, investment in renewable energy, and changes in behavior and lifestyle choices.\n",
            "102 The impacts of climate change are not distributed equally, with marginalized communities and low-income countries often bearing the brunt of the impacts. Addressing climate change requires addressing issues of equity and social justice.\n",
            "103 In conclusion, climate change is a global issue that requires urgent action. Addressing climate change requires a range of actions, from reducing greenhouse gas emissions to promoting renewable energy and implementing adaptation strategies. The transition to a low-carbon economy also presents opportunities for economic growth and innovation, but must be done in an equitable and socially just manner.\n",
            "111 The concept of renewable energy has gained widespread attention in recent years as society looks for ways to reduce carbon emissions and combat climate change. Renewable energy refers to energy sources that are replenished naturally and can be used indefinitely, such as wind, solar, and hydropower.\n",
            "130 It is important to recognize that addressing global warming is not just an environmental issue but also a social and economic one. The impacts of climate change will disproportionately affect vulnerable populations, including low-income communities and developing countries.\n",
            "131 In conclusion, the issue of global warming is a complex and urgent one that requires collective action at all levels. By taking steps to reduce greenhouse gas emissions and transition to a more sustainable economy, we can help mitigate the effects of climate change and protect the planet for future generations.\n",
            "139 Climate change is one of the most pressing global challenges of our time, with severe impacts on our environment, economy, and society. It is caused by human activities such as burning fossil fuels, deforestation, and land-use changes.\n",
            "140 The impacts of climate change are already being felt around the world, with rising temperatures, sea level rise, and more frequent and intense weather events such as hurricanes, droughts, and wildfires.\n",
            "141 To mitigate the impacts of climate change, countries around the world have committed to reducing their greenhouse gas emissions through the Paris Agreement. This includes transitioning to renewable energy sources, improving energy efficiency, and reducing deforestation.\n",
            "142 Individual actions can also make a difference in reducing carbon emissions and mitigating climate change. This includes reducing energy consumption in homes and offices, driving less, eating a plant-based diet, and supporting renewable energy development.\n",
            "144 In addition to reducing emissions, it is also important to adapt to the impacts of climate change that are already inevitable. This includes investing in climate-resilient infrastructure, protecting vulnerable communities, and improving disaster preparedness.\n",
            "145 In conclusion, addressing climate change requires a comprehensive and coordinated approach that considers both mitigation and adaptation. It is essential to act now to avoid the worst impacts of climate change and create a more sustainable future for ourselves and future generations.\n",
            "160 Climate change is a global phenomenon that affects every corner of the planet. It refers to the long-term shift in weather patterns caused by the accumulation of greenhouse gases in the Earth's atmosphere. These gases trap heat from the sun, leading to a gradual rise in the planet's average surface temperature.\n",
            "161 The effects of climate change can be seen in many ways, including rising sea levels, melting glaciers, more frequent and severe heatwaves, droughts, and wildfires. These changes have significant impacts on ecosystems and human societies around the world, causing displacement of people, food and water insecurity, and damage to infrastructure and economies.\n",
            "162 The main driver of climate change is human activity, particularly the burning of fossil fuels for energy and transportation. Other factors include deforestation and land use change, as well as emissions from agriculture and industry. These activities release large amounts of carbon dioxide and other greenhouse gases into the atmosphere, contributing to the warming of the planet.\n",
            "163 Addressing climate change requires a coordinated effort from governments, businesses, and individuals around the world. This includes transitioning to renewable energy sources, implementing energy efficiency measures, and reducing emissions from transportation and industry. Additionally, protecting and restoring forests and other ecosystems can help to absorb carbon dioxide from the atmosphere and mitigate the effects of climate change.\n",
            "164 While the impacts of climate change are already being felt, there is still time to mitigate its worst effects. However, this requires urgent and ambitious action to reduce greenhouse gas emissions and adapt to the changes that are already underway. This will require significant investments in renewable energy, infrastructure, and research and development.\n",
            "165 Climate change is not only an environmental issue but also a social and economic one. It disproportionately affects vulnerable populations, such as low-income communities and people living in developing countries. Addressing climate change requires a just and equitable approach that takes into account the needs and concerns of all people.\n",
            "166 The fight against climate change is a complex and ongoing challenge, requiring sustained effort and commitment from all sectors of society. However, it also presents opportunities for innovation and progress, as we transition towards a more sustainable and resilient future for ourselves and future generations.\n",
            "170 Climate change is one of the biggest threats facing our planet. It is caused by the increase in greenhouse gases, such as carbon dioxide, which trap heat in the atmosphere and cause the planet to warm up. Climate change is causing sea levels to rise, ice caps to melt, and weather patterns to change. It is also affecting wildlife and ecosystems, leading to the extinction of many species. To address climate change, we need to reduce our carbon footprint and transition to renewable sources of energy.\n",
            "count: 42\n"
          ]
        }
      ]
    },
    {
      "cell_type": "code",
      "source": [
        "count_phrase('AI ')"
      ],
      "metadata": {
        "id": "XEhaIqdwZsBm",
        "outputId": "eeecaa13-d9b0-49fb-fdcf-6132011c7785",
        "colab": {
          "base_uri": "https://localhost:8080/"
        }
      },
      "execution_count": 43,
      "outputs": [
        {
          "output_type": "stream",
          "name": "stdout",
          "text": [
            "21 The world of Artificial Intelligence (AI) is rapidly evolving and has become an integral part of our daily lives. AI is the science and engineering of making intelligent machines that work and think like humans. It has the potential to revolutionize many industries, including healthcare, finance, and manufacturing. AI is being used to enhance decision-making, optimize processes, and improve customer experiences. The possibilities of AI are endless, and it is expected to have a significant impact on the global economy in the coming years.\n",
            "22 The impact of AI on the job market has been a topic of debate for many years. While some argue that AI will replace human workers, others believe that it will create new job opportunities. While it is true that AI may automate some tasks, it can also create new industries and job roles that require unique skills. For example, AI can be used to analyze data and identify patterns, but it still requires human input to make informed decisions. Therefore, it is essential for individuals to develop new skills that complement AI and enable them to work alongside it.\n",
            "23 One of the most significant benefits of AI is its ability to improve healthcare. AI can help physicians make more accurate diagnoses, develop personalized treatment plans, and even predict potential health issues before they arise. AI can also help healthcare providers optimize their operations by streamlining administrative tasks and reducing costs. However, the implementation of AI in healthcare must be carefully monitored to ensure that patient data is protected, and ethical guidelines are followed.\n",
            "24 The financial sector is another industry that can benefit greatly from AI. AI can be used to analyze large amounts of financial data, identify patterns, and make informed decisions. This can help financial institutions optimize their operations, improve customer experiences, and reduce risks. However, AI also poses new challenges, such as the risk of cyberattacks, which must be addressed.\n",
            "25 AI is also being used to enhance the manufacturing industry. By using AI to optimize processes and improve supply chain management, manufacturers can reduce costs and increase productivity. AI can also help manufacturers predict maintenance needs and reduce downtime. However, the implementation of AI in manufacturing must be carefully planned and executed to ensure that it is effective and does not lead to job losses.\n",
            "26 As AI becomes more prevalent in our daily lives, it is essential to consider its ethical implications. AI systems can be biased, and their decisions can have significant consequences. Therefore, it is essential to ensure that AI is developed and used ethically and transparently. This includes monitoring AI systems to ensure that they are not perpetuating existing biases or discriminating against certain groups of people.\n",
            "34 Artificial intelligence (AI) is a rapidly developing field that has the potential to transform many aspects of our lives. AI refers to the development of machines that can perform tasks that typically require human intelligence, such as learning, problem-solving, and decision-making. As AI continues to advance, it is likely to have significant implications for our economy, society, and even our own human identity.\n",
            "35 One of the most promising applications of AI is in the field of healthcare. AI can be used to analyze vast amounts of medical data, helping to identify patterns and trends that can aid in the diagnosis and treatment of diseases. Additionally, AI can be used to develop personalized treatment plans based on an individual's unique characteristics and medical history.\n",
            "36 Another area where AI is making significant strides is in transportation. Self-driving cars, buses, and trucks are being developed that can navigate roads and highways autonomously. This technology has the potential to make transportation safer and more efficient, reducing accidents and congestion on our roads.\n",
            "37 AI is also being used in education to improve student learning outcomes. By analyzing student performance data, AI algorithms can identify areas where students may need additional support or provide personalized recommendations for further learning. Additionally, AI can assist with administrative tasks, such as grading assignments, freeing up teachers to focus on teaching.\n",
            "38 As AI continues to advance, there is concern about the impact it may have on employment. Many jobs that are currently performed by humans, such as data entry and customer service, may become automated, leading to job displacement. However, AI is also creating new job opportunities in fields such as data science and machine learning.\n",
            "39 One of the biggest challenges with AI is ensuring that it is developed and used in an ethical and responsible manner. There is concern that AI may perpetuate or even exacerbate existing biases and inequalities in society. Additionally, there is the risk that AI may be used for malicious purposes, such as cyber attacks or surveillance.\n",
            "40 In conclusion, AI has the potential to revolutionize many aspects of our lives, from healthcare and transportation to education and employment. However, it is essential that we approach the development and use of AI in an ethical and responsible manner, taking into consideration the potential impact on society and the need to ensure that AI is used for the greater good.\n",
            "104 Artificial intelligence (AI) is a rapidly advancing field that has the potential to revolutionize many aspects of modern society. AI refers to the ability of machines to perform tasks that would normally require human intelligence, such as recognizing speech or making decisions based on data.\n",
            "105 The development of AI has already led to significant improvements in fields such as healthcare, transportation, and finance. For example, AI algorithms can help doctors diagnose diseases more accurately, while self-driving cars are expected to improve road safety and reduce traffic congestion.\n",
            "106 However, the rapid advancement of AI also raises concerns about its impact on society. For example, some worry that AI could lead to job displacement or even the loss of entire industries. Others are concerned about the potential misuse of AI, such as the development of autonomous weapons.\n",
            "108 Another challenge for AI development is the need for vast amounts of data to train machine learning algorithms. This raises questions about data privacy and ownership, as well as the potential for biases in the data.\n",
            "109 Despite these challenges, the potential benefits of AI are significant. The development of AI could lead to new technologies and innovations that improve quality of life for people around the world.\n",
            "110 In conclusion, AI is a rapidly advancing field with both potential benefits and risks. As AI continues to shape the world around us, it is important to address concerns about its impact on society and ensure that its development and use are guided by ethical principles and regulation.\n",
            "118 The field of artificial intelligence (AI) has seen tremendous growth and advancement in recent years, with applications ranging from natural language processing to autonomous vehicles. AI refers to the ability of machines to simulate human intelligence and perform tasks that would typically require human cognition, such as reasoning and problem-solving.\n",
            "119 One of the main advantages of AI is its ability to automate routine tasks and improve efficiency. This has the potential to save time and resources, increase productivity, and reduce errors.\n",
            "120 Another advantage of AI is its ability to learn from data and improve over time. Machine learning algorithms can analyze large datasets and identify patterns and insights that humans may not be able to detect.\n",
            "121 However, the development of AI also raises ethical concerns. One major issue is the potential for AI to perpetuate bias and discrimination, as algorithms may be trained on biased data or reflect the biases of their creators.\n",
            "122 To address these concerns, researchers are exploring ways to develop fair and unbiased AI systems, such as using diverse and representative data sets and implementing ethical guidelines for AI development and deployment.\n",
            "123 Another concern is the potential for AI to displace human workers, particularly in industries such as manufacturing and transportation. As AI becomes more advanced and capable of performing complex tasks, it may lead to job loss and economic disruption.\n",
            "124 In conclusion, AI offers many potential benefits, including automation and increased efficiency, but also raises important ethical and economic concerns that must be addressed through continued research and development.\n",
            "132 Artificial Intelligence (AI) is a branch of computer science that deals with the creation of intelligent machines that can perform tasks that would typically require human intelligence. AI technologies are rapidly advancing and are being applied to various fields such as medicine, finance, and transportation.\n",
            "133 One of the most significant benefits of AI is its ability to analyze large amounts of data and identify patterns and insights that humans may miss. This can be especially useful in areas such as healthcare, where AI algorithms can assist doctors in making accurate diagnoses and predicting patient outcomes.\n",
            "134 AI is also being used to automate various tasks and processes, increasing efficiency and reducing costs. For example, companies are using AI-powered chatbots to handle customer service inquiries, and factories are using robots to perform repetitive tasks.\n",
            "136 To address these concerns, researchers and policymakers are working on developing ethical frameworks and guidelines for the development and deployment of AI technologies. This includes ensuring transparency and accountability in AI decision-making processes and promoting diversity in AI development teams.\n",
            "137 Another challenge is ensuring that AI technologies are developed in a way that is safe and secure. This includes protecting against malicious use and ensuring that the technology does not have unintended consequences.\n",
            "138 In conclusion, AI has the potential to revolutionize many areas of our lives, but it is important to consider the potential risks and work to develop AI in a way that is ethical, safe, and beneficial for society as a whole.\n",
            "147 AI has the potential to revolutionize a wide range of industries, from healthcare to finance to transportation. By automating processes and providing insights from vast amounts of data, AI can increase efficiency and accuracy, and ultimately improve outcomes.\n",
            "149 To address these concerns, researchers and policymakers are working to develop ethical guidelines and regulations for AI development and deployment. This includes ensuring transparency and accountability in decision-making algorithms, and addressing the potential for bias and discrimination.\n",
            "150 Another area of focus for AI development is the creation of more human-like interactions between machines and humans. This includes natural language processing and facial recognition technology, which can improve the usability and accessibility of AI applications.\n",
            "151 As AI continues to develop and become more integrated into society, it is important to consider the ethical and societal implications of this technology. This includes issues such as data privacy, job displacement, and the potential impact on social and economic inequality.\n",
            "152 In conclusion, AI has the potential to transform our lives in countless ways, but it is important to approach its development and deployment with caution and consideration for the potential risks and benefits. By working to address the ethical and societal implications of AI, we can ensure that this technology is used for the greater good.\n",
            "count: 37\n"
          ]
        }
      ]
    },
    {
      "cell_type": "code",
      "source": [
        "count_phrase('Mental health')"
      ],
      "metadata": {
        "id": "GJlfIhcIaHOF",
        "outputId": "1068c82e-9fba-47c9-e632-8d78f48c0123",
        "colab": {
          "base_uri": "https://localhost:8080/"
        }
      },
      "execution_count": 44,
      "outputs": [
        {
          "output_type": "stream",
          "name": "stdout",
          "text": [
            "3 Mental health is just as important as physical health, yet it is often stigmatized and neglected. Mental illnesses can have a profound impact on a person's well-being and can lead to isolation, substance abuse, and even suicide. It is crucial that we prioritize mental health care and support services to ensure that people receive the help they need to thrive.\n",
            "48 Mental health is a critical aspect of our overall well-being. It encompasses our emotional, psychological, and social well-being and affects how we think, feel, and behave. Mental health issues can range from mild to severe and can impact individuals of all ages, races, and backgrounds.\n",
            "49 Many factors can contribute to mental health issues, including genetics, environmental factors, and life experiences. Common mental health conditions include anxiety disorders, depression, bipolar disorder, and schizophrenia. It's essential to seek professional help if you or someone you know is experiencing symptoms of a mental health condition.\n",
            "50 Mental health issues can have a significant impact on our daily lives, affecting our ability to work, maintain relationships, and enjoy leisure activities. Therefore, it's crucial to take steps to promote good mental health, such as getting enough sleep, exercising regularly, eating a healthy diet, and practicing stress-reduction techniques.\n",
            "51 Stigma and discrimination surrounding mental health conditions can prevent individuals from seeking help and receiving adequate support. Therefore, it's essential to promote understanding and awareness of mental health issues and provide access to high-quality mental health services.\n",
            "52 Mental health issues can also impact our physical health, leading to chronic health conditions such as heart disease, diabetes, and obesity. Therefore, it's crucial to address mental health issues as part of a comprehensive approach to healthcare.\n",
            "53 Mental health treatment options include medication, therapy, and support groups. Many individuals find that a combination of these approaches is most effective in managing their mental health conditions. It's important to work closely with a mental health professional to determine the best course of treatment.\n",
            "54 In conclusion, mental health is a vital component of our overall well-being. Mental health issues can impact individuals of all ages and backgrounds and can have significant consequences if left untreated. Therefore, it's essential to promote good mental health, provide access to high-quality mental health services, and reduce the stigma surrounding mental health conditions.\n",
            "62 Mental health is a critical aspect of our overall well-being. It affects how we think, feel, and behave, and it's essential for us to take care of our mental health just as we do our physical health.\n",
            "63 Mental health issues can impact anyone, regardless of age, gender, or background. Common mental health conditions include anxiety, depression, and bipolar disorder.\n",
            "64 There are many different ways to promote good mental health. These include practicing self-care, seeking therapy or counseling, and engaging in regular physical exercise.\n",
            "65 Mental health stigma is a significant barrier to seeking help for many people. Addressing stigma requires education and awareness, as well as challenging negative attitudes and beliefs.\n",
            "66 Access to mental health services is also a critical issue. Many people face barriers such as high costs, lack of insurance coverage, and a shortage of mental health providers.\n",
            "67 It's essential to prioritize mental health in all aspects of our lives, including in the workplace. Employers can take steps such as providing mental health resources and accommodations to support their employees' mental health.\n",
            "68 In conclusion, mental health is a crucial aspect of our overall well-being, and it's essential to prioritize it in our daily lives. This includes seeking help when needed, promoting good mental health practices, challenging stigma, and advocating for better access to mental health services.\n",
            "69 Social media has become an integral part of modern life, with billions of people around the world using platforms such as Facebook, Twitter, and Instagram. While social media has many benefits, there are also concerns about its impact on mental health.\n",
            "70 Studies have shown that excessive social media use can lead to negative mental health outcomes, such as depression, anxiety, and low self-esteem. This may be due to factors such as social comparison, cyberbullying, and addiction.\n",
            "75 In conclusion, social media can have both positive and negative impacts on mental health, and it's important to use it in a healthy and responsible way. This includes setting boundaries, being mindful of how social media makes you feel, and promoting healthy social media use for children and adults alike.\n",
            "171 Health and fitness are essential for a healthy lifestyle. Regular exercise can improve physical and mental health, reduce the risk of chronic diseases, and improve quality of life. Eating a healthy diet can also have a positive impact on our health and wellbeing. It can help us maintain a healthy weight, lower our risk of heart disease and stroke, and improve our mood and energy levels.\n",
            "173 Traveling is a great way to experience new cultures and broaden our horizons. It allows us to learn about different ways of life, try new foods, and see amazing sights. Traveling can also help us develop important life skills, such as problem-solving, adaptability, and communication. It can also have a positive impact on our mental health and wellbeing.\n",
            "180 Gratitude is an important aspect of positive psychology and can improve mental health and well-being. Practicing gratitude involves recognizing and appreciating the good things in life, even during difficult times. It can be as simple as keeping a gratitude journal or regularly expressing gratitude to loved ones.\n",
            "189 Social media can be a powerful tool for staying connected with friends and family, discovering new information, and building an online presence. However, it's important to be aware of the potential downsides, such as increased feelings of loneliness and anxiety, and to use these platforms mindfully. This means setting boundaries around your social media use, limiting your exposure to negative content, and being mindful of how your online interactions affect your mental health.\n",
            "192 Regular exercise has numerous physical and mental health benefits, from improving cardiovascular health to reducing symptoms of depression and anxiety. To reap these benefits, it's important to find a form of exercise that you enjoy and can stick to, whether it's running, yoga, or dancing. Aim for at least 30 minutes of moderate exercise most days of the week, and don't be afraid to mix up your routine to keep things interesting.\n",
            "194 Practicing gratitude can have a powerful impact on your mental health and well-being. By intentionally focusing on the things in your life that you are grateful for, you can cultivate a sense of positivity and resilience even in challenging times. Some ways to practice gratitude include keeping a gratitude journal, saying thank you more often, and taking time to appreciate the beauty around you.\n",
            "199 Nutrition is an important aspect of overall health and wellbeing. A well-balanced diet can provide us with the nutrients we need to maintain a healthy weight, reduce the risk of chronic diseases, and improve our mental health. Some key components of a healthy diet include fruits and vegetables, lean proteins, whole grains, and healthy fats.\n",
            "count: 25\n"
          ]
        }
      ]
    },
    {
      "cell_type": "code",
      "source": [],
      "metadata": {
        "id": "wyK432MZaxIO"
      },
      "execution_count": null,
      "outputs": []
    }
  ]
}